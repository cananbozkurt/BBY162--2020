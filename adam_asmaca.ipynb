{
  "nbformat": 4,
  "nbformat_minor": 0,
  "metadata": {
    "colab": {
      "name": "adam_asmaca.ipynb",
      "provenance": [],
      "authorship_tag": "ABX9TyOTq0hLVK+N00v0RmNQ1Jnj",
      "include_colab_link": true
    },
    "kernelspec": {
      "name": "python3",
      "display_name": "Python 3"
    }
  },
  "cells": [
    {
      "cell_type": "markdown",
      "metadata": {
        "id": "view-in-github",
        "colab_type": "text"
      },
      "source": [
        "<a href=\"https://colab.research.google.com/github/cananbozkurt/BBY162-2020/blob/master/adam_asmaca.ipynb\" target=\"_parent\"><img src=\"https://colab.research.google.com/assets/colab-badge.svg\" alt=\"Open In Colab\"/></a>"
      ]
    },
    {
      "cell_type": "code",
      "metadata": {
        "id": "x0ycxF56YvLc",
        "colab_type": "code",
        "colab": {
          "base_uri": "https://localhost:8080/",
          "height": 192
        },
        "outputId": "bf1529a6-05ef-4c73-edcd-26cb42fbb426"
      },
      "source": [
        "#Adam Asmaca Oyunu\n",
        "#Canan Bozkurt (21661338)\n",
        "#cananbozkurt2104@gmail.com\n",
        "\n",
        "from random import randint\n",
        "\n",
        "print(\"Adam Asmaca Oyununa Hoşgeldiniz\")\n",
        "print(\"Konu Ankara'daki en iyi üniversiteler\")\n",
        "print(\"Toplam 4 can hakkınız vardır.\")\n",
        "\n",
        "toplamCan = 4\n",
        "kelimeler = [\"hacettepe\",\"bilkent\",\"odtü\",\"gazi\"]\n",
        "kelimeSayisi = len(kelimeler)\n",
        "secilen = randint(0, kelimeSayisi-1)\n",
        "secilenKelime = kelimeler[secilen]\n",
        "print(\"secilenKelime\")\n",
        "dizilenKelime = []\n",
        "for diz in kelimeler[secilen]:\n",
        "    dizilenKelime.append(\"_\")\n",
        "    print(dizilenKelime)\n",
        "\n",
        "while toplamCan > 0 :\n",
        "    girilenHarf = input(\"Bir Harf Giriniz: \")\n",
        "    canKontrol = girilenHarf in secilenKelime\n",
        "    if canKontrol == False:\n",
        "        toplamCan-=1\n",
        "    i = 0\n",
        "    for kontrol in secilenKelime:\n",
        "        if secilenKelime[i] == girilenHarf:\n",
        "            dizilenKelime[i] = girilenHarf\n",
        "        i+=1\n",
        "    print(dizilenKelime)\n",
        "    print(\"Kalan can: \"+ str(toplamCan))"
      ],
      "execution_count": 0,
      "outputs": [
        {
          "output_type": "stream",
          "text": [
            "Adam Asmaca Oyununa Hoşgeldiniz\n",
            "Konu Ankara'daki en iyi üniversiteler\n",
            "Toplam 4 can hakkınız vardır.\n",
            "secilenKelime\n",
            "['_']\n",
            "['_', '_']\n",
            "['_', '_', '_']\n",
            "['_', '_', '_', '_']\n"
          ],
          "name": "stdout"
        }
      ]
    }
  ]
}