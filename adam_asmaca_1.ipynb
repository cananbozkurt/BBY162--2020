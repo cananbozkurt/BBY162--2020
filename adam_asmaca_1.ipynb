{
  "nbformat": 4,
  "nbformat_minor": 0,
  "metadata": {
    "colab": {
      "name": "Untitled1.ipynb",
      "provenance": [],
      "authorship_tag": "ABX9TyNb6+ZBktMkQytDxEvWURvE",
      "include_colab_link": true
    },
    "kernelspec": {
      "name": "python3",
      "display_name": "Python 3"
    }
  },
  "cells": [
    {
      "cell_type": "markdown",
      "metadata": {
        "id": "view-in-github",
        "colab_type": "text"
      },
      "source": [
        "<a href=\"https://colab.research.google.com/github/cananbozkurt/BBY162-2020/blob/master/adam_asmaca_1.ipynb\" target=\"_parent\"><img src=\"https://colab.research.google.com/assets/colab-badge.svg\" alt=\"Open In Colab\"/></a>"
      ]
    },
    {
      "cell_type": "code",
      "metadata": {
        "id": "Fz7Bwrm04QTj",
        "colab_type": "code",
        "colab": {}
      },
      "source": [
        ""
      ],
      "execution_count": 0,
      "outputs": []
    },
    {
      "cell_type": "code",
      "metadata": {
        "id": "2yV87vfz0_A6",
        "colab_type": "code",
        "outputId": "9b9b5d1f-86da-4a00-bdd3-b78519be415f",
        "colab": {
          "base_uri": "https://localhost:8080/",
          "height": 320
        }
      },
      "source": [
        "from random import randint\n",
        "import random\n",
        "\n",
        "import time\n",
        "\n",
        "\n",
        "print(\"Oyun Başlıyor...\")\n",
        "time.sleep(4)\n",
        "print(\"Adam Asmaca Oyununa Hoşgeldiniz\")\n",
        "print(\"Konu Ankara'daki en iyi üniversiteler\")\n",
        "print(\"Toplam 3 can hakkınız vardır.\")\n",
        "\n",
        "\n",
        "kelimeler = [\"hacettepe\",\"bilkent\",\"odtü\",\"gazi\"]\n",
        "kelimeSayisi = len(kelimeler)\n",
        "secilen = randint(0, kelimeSayisi-1)\n",
        "secilenKelime = kelimeler[secilen]\n",
        "print(\"secilenKelime\")\n",
        "dizilenKelime = []\n",
        "for diz in kelimeler[secilen]:\n",
        "    dizilenKelime.append(\"_\")\n",
        "    print(dizilenKelime)\n",
        "while True:\n",
        "    kelimeler = random.choice([\"hacettepe\",\"bilkent\",\"odtü\",\"gazi\"])\n",
        "    kelimeler = kelimeler.upper()\n",
        "    harfsayisi = len(kelimeler)\n",
        "    print(\"\\nkelimemiz {} harflidir.\\n\\n\".format(harfsayisi))\n",
        "\n",
        "    tahminler = []\n",
        "    hata = []\n",
        "\n",
        "    deneme = 3\n",
        "\n",
        "    while deneme > 0:\n",
        "\n",
        "        ekran = \"\"\n",
        "\n",
        "        for harf in kelimeler:\n",
        "            if harf in tahminler:\n",
        "                ekran = ekran + harf\n",
        "            else:\n",
        "                ekran = ekran + \"_\"\n",
        "        if ekran == kelimeler:\n",
        "            print(\"Doğru!\")\n",
        "            time.sleep(2)\n",
        "            break\n",
        "\n",
        "        print(\"Tahmin ediniz\", ekran)\n",
        "       \n",
        "        print(deneme, \"canınız kaldı\")\n",
        "        \n",
        "\n",
        "        tahmin = input(\"bir harf tahmin et\\n>>>\")\n",
        "        tahmin = tahmin.upper()\n",
        "\n",
        "        if tahmin == kelimeler:\n",
        "            print(\"Tebrikler!\")\n",
        "           \n",
        "            break\n",
        "\n",
        "        if tahmin in tahminler or tahmin in hata:\n",
        "            print(\"{} Bunu söylemiştin bir tane daha söyle \".format(tahmin))\n",
        "            \n",
        "        elif tahmin in kelimeler:\n",
        "            rpt = kelimeler.count(tahmin)\n",
        "            print(\"evet..{0} harfi {1} kere geçiyor\".format(tahmin, rpt))\n",
        "            tahminler.append(tahmin)\n",
        "\n",
        "        else:\n",
        "            print(\"maalesef yok\")\n",
        "            hata.append(tahmin)\n",
        "            deneme = deneme - 1\n",
        "\n",
        "    if deneme == 0:\n",
        "        print(\"Canınız bitti.\")\n",
        "        print(\"kelimemiz {}\".format(kelimeler))\n",
        "\n",
        "    print(\"Oyundan çıkmak isterseniz\\n'A' tuşuna basın\\nDevam etmek isterseniz başka tuşa basın lütfen. \")\n",
        "    devam = input(\">>>>\")\n",
        "    devam = devam.upper()\n",
        "\n",
        "    if devam == \"A\":\n",
        "        print(\"oyun sonlandırıldı\")\n",
        "        break\n",
        "\n",
        "    else:\n",
        "        continue\n",
        "\n",
        "#hocam oyunu tekrar geliştirirken çok zorlandım bu yüzden biraz yardım aldım ama hepsini daha iyi anladım, başka bir uygulama üzerinde çalışıp onu da ilerleyen zamanda ekleyeceğim."
      ],
      "execution_count": 0,
      "outputs": [
        {
          "output_type": "stream",
          "text": [
            "Oyun Başlıyor...\n",
            "Adam Asmaca Oyununa Hoşgeldiniz\n",
            "Konu Ankara'daki en iyi üniversiteler\n",
            "Toplam 3 can hakkınız vardır.\n",
            "secilenKelime\n",
            "['_']\n",
            "['_', '_']\n",
            "['_', '_', '_']\n",
            "['_', '_', '_', '_']\n",
            "\n",
            "kelimemiz 4 harflidir.\n",
            "\n",
            "\n",
            "Tahmin ediniz ____\n",
            "3 canınız kaldı\n"
          ],
          "name": "stdout"
        }
      ]
    }
  ]
}