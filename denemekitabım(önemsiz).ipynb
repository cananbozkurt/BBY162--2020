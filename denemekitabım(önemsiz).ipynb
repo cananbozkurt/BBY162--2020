{
  "nbformat": 4,
  "nbformat_minor": 0,
  "metadata": {
    "colab": {
      "name": "BBY162_Python_Giris.ipynb",
      "provenance": [],
      "collapsed_sections": [
        "AE4EYdj6VPvq",
        "4nLn-agoUdfh",
        "0S8fTkAqVb4v",
        "9JeaGlvQYylS",
        "VzeGixS6Y919",
        "2irKEi_raxaB",
        "_6eRj3kmeyGw",
        "i3Qht_zmjLf2",
        "f5MK6vZOl6dG",
        "OUWeht_8nyCx",
        "C0G673j0pQD4",
        "NU2bhXlwuUtj",
        "qhLUJ8wJM79g",
        "9UNmx1IUNSrB",
        "ipcnECBCOKWX",
        "Xo6sOrv-PpgY",
        "op2D6v9xQsRe",
        "xPgrx41FRbrw",
        "aIfLylzcShEG",
        "mKLQLw8_TJyz",
        "T_u1X0aKVAO2",
        "cft6m1VaVqVH",
        "16m1oC6LWEdJ",
        "nTiryVt-EuJP",
        "H78J_wNDE1Id",
        "D_Vt3_mQJq9Q",
        "qiE0PiXLPQmM",
        "J_f83oCDS-Hz",
        "HkDm5do0Vduc",
        "9qqctZNZX6q4",
        "iFlaNCzFpdIj",
        "o68yxOoTx1vA",
        "0R6l7TiLyI1H",
        "rd-bsVch9Dxb",
        "gBj0pSOoLvWu"
      ],
      "toc_visible": true,
      "include_colab_link": true
    },
    "kernelspec": {
      "name": "python3",
      "display_name": "Python 3"
    }
  },
  "cells": [
    {
      "cell_type": "markdown",
      "metadata": {
        "id": "view-in-github",
        "colab_type": "text"
      },
      "source": [
        "<a href=\"https://colab.research.google.com/github/cananbozkurt/BBY162-2020/blob/master/BBY162_Python_Giris.ipynb\" target=\"_parent\"><img src=\"https://colab.research.google.com/assets/colab-badge.svg\" alt=\"Open In Colab\"/></a>"
      ]
    },
    {
      "cell_type": "markdown",
      "metadata": {
        "id": "6IOyCRzqRgBu",
        "colab_type": "text"
      },
      "source": [
        "Bu çalışma defteri Stepnik eğitim platformunda yer alan Jetbrains'in \"Introduction to Python\" dersi temel alınarak hazırlanmıştır. (https://stepik.org/course/238)\n"
      ]
    },
    {
      "cell_type": "markdown",
      "metadata": {
        "id": "AE4EYdj6VPvq",
        "colab_type": "text"
      },
      "source": [
        "# Bölüm 01: Giriş"
      ]
    },
    {
      "cell_type": "markdown",
      "metadata": {
        "id": "4nLn-agoUdfh",
        "colab_type": "text"
      },
      "source": [
        "## İlk Bilgisayar Programımız\n",
        "Geleneksel olarak herhangi bir programlama dilinde yazdığınız ilk program \"Merhaba Dünya!\"'dır."
      ]
    },
    {
      "cell_type": "markdown",
      "metadata": {
        "id": "xhY6ovVFSBp1",
        "colab_type": "text"
      },
      "source": [
        "**Örnek Uygulama:**\n",
        "```\n",
        "print(\"Merhaba Dünya!\")\n",
        "```"
      ]
    },
    {
      "cell_type": "markdown",
      "metadata": {
        "id": "MuYQpCfoh7In",
        "colab_type": "text"
      },
      "source": [
        "**Görev:** Kendinizi dünyaya tanıtacak ilk bilgisayar programınızı yazın!"
      ]
    },
    {
      "cell_type": "code",
      "metadata": {
        "id": "CBHkVbIlUXgW",
        "colab_type": "code",
        "cellView": "both",
        "outputId": "6557ebb7-e933-413a-933c-b8f65bf50d3f",
        "colab": {
          "base_uri": "https://localhost:8080/",
          "height": 34
        }
      },
      "source": [
        "print(\"Canan'ın Dünyasına Hoşgeldiniz!\")"
      ],
      "execution_count": 0,
      "outputs": [
        {
          "output_type": "stream",
          "text": [
            "Canan'ın Dünyasına Hoşgeldiniz!\n"
          ],
          "name": "stdout"
        }
      ]
    },
    {
      "cell_type": "markdown",
      "metadata": {
        "id": "0S8fTkAqVb4v",
        "colab_type": "text"
      },
      "source": [
        "## Yorumlar\n",
        "Python'daki yorumlar # \"hash\" karakteriyle başlar ve fiziksel çizginin sonuna kadar uzanır. Yorum yapmak için kullandığımız # \"hash\" karakteri kod satırlarını geçici olarak devre dışı bırakmak amacıyla da kullanılabilir. "
      ]
    },
    {
      "cell_type": "markdown",
      "metadata": {
        "colab_type": "text",
        "id": "ql-GYfPYWpUW"
      },
      "source": [
        "**Örnek Uygulama:**\n",
        "```\n",
        "# Bu ilk bilgisayar programım için ilk yorumum\n",
        "print(\"# bu bir yorum değildir\")\n",
        "print(\"Merhaba!\")  # yorumlar kod satırının devamında da yapılabilir.\n",
        "#print(\"Bu kod geçici olarak devre dışı bırakılmıştır.\")\n",
        "```\n"
      ]
    },
    {
      "cell_type": "markdown",
      "metadata": {
        "id": "4ufK03hEiP76",
        "colab_type": "text"
      },
      "source": [
        "**Görev:** Bilgisayar kodunuza yeni yorum ekleyin, kodları geçici olarak devre dışı bırakın!"
      ]
    },
    {
      "cell_type": "code",
      "metadata": {
        "id": "QzUppEjoXLPM",
        "colab_type": "code",
        "outputId": "369ef654-b2ad-427b-ecf1-6524258c0c0d",
        "colab": {
          "base_uri": "https://localhost:8080/",
          "height": 51
        }
      },
      "source": [
        "print(\"Merhaba!\")\n",
        "# Bu bir yorum denemesidir.\n",
        "print(\"# bu da denemedir.\")\n",
        "# print(\"devre dışı bırakıldı.\")"
      ],
      "execution_count": 0,
      "outputs": [
        {
          "output_type": "stream",
          "text": [
            "Merhaba!\n",
            "# bu da denemedir.\n"
          ],
          "name": "stdout"
        }
      ]
    },
    {
      "cell_type": "markdown",
      "metadata": {
        "id": "9JeaGlvQYylS",
        "colab_type": "text"
      },
      "source": [
        "# Bölüm 02: Değişkenler"
      ]
    },
    {
      "cell_type": "markdown",
      "metadata": {
        "id": "VzeGixS6Y919",
        "colab_type": "text"
      },
      "source": [
        "## Değişken Nedir?\n",
        "Değişkenler değerleri depolamak için kullanılır, böylece daha sonra bu değişkenleri program içinde çağırarak kullanabilir. Değişkenler etiketlere benzer ve atama operatörü olarak adlandırılan eşittir ( = ) operatörü ile bir değişkene bir değer atanabilir. Bir değer ataması zincirleme şeklinde gerçekleştirilebilir. Örneğin: a = b = 2"
      ]
    },
    {
      "cell_type": "markdown",
      "metadata": {
        "id": "7tWAdnNlZtQr",
        "colab_type": "text"
      },
      "source": [
        "**Örnek Uygulama:**\n",
        "```\n",
        "a = b = 2 # Bu bir \"zincirleme atamadır\". Değer olarak atanan 2 hem  \"a\" değişkenine, hem de \"b\" değişkenine atanmaktadır.\n",
        "print(\"a = \" + str(a))\n",
        "print(\"b = \" + str(b))\n",
        "# str(a) ve  str(b) ifadesi eğitimin ilerleyen bölümlerinde anlatılacaktır.\n",
        "# Şu an için \"a\" ve \"b\" değişkenini metin formatına çevirmek için kullanılmakta olduğunu bilmeniz yeterlidir.\n",
        "\n",
        "adSoyad = \"Orçun Madran\"\n",
        "print(\"Adı Soyadı: \" + adSoyad)\n",
        "```"
      ]
    },
    {
      "cell_type": "markdown",
      "metadata": {
        "id": "szRkWMg9idf9",
        "colab_type": "text"
      },
      "source": [
        "**Görev:** \"eposta\" adlı bir değişken oluşturun. Oluşturduğunuz bu değişkene bir e-posta adresi atayın. Daha sonra atadığınız bu değeri, yazdırın. Örneğin: \"E-posta: orcun[at]madran.net\""
      ]
    },
    {
      "cell_type": "code",
      "metadata": {
        "id": "RmIa5BJsZ2EI",
        "colab_type": "code",
        "outputId": "de88b19e-d477-479e-b96b-03427c33bd91",
        "colab": {
          "base_uri": "https://localhost:8080/",
          "height": 34
        }
      },
      "source": [
        "eposta = \"cananbozkurt2104@.gmail.com\"\n",
        "print(\"E-posta: \"+ eposta)"
      ],
      "execution_count": 0,
      "outputs": [
        {
          "output_type": "stream",
          "text": [
            "E-posta: cananbozkurt2104@.gmail.com\n"
          ],
          "name": "stdout"
        }
      ]
    },
    {
      "cell_type": "markdown",
      "metadata": {
        "colab_type": "text",
        "id": "2irKEi_raxaB"
      },
      "source": [
        "## Değişken Tanımlama\n",
        "Değişken adları yalnızca harf, rakam ve / veya alt çizgi karakteri içerebilir ve bir rakamla başlayamaz. Python'ın 3. sürümünden itibaren değişken adlarında latin dışı karakterler (Ör: İ, ı, ç, ö, ş, ğ vb.) kullanılabilir. Ancak bu programlama dilleri genelinde tavsiye edilmez."
      ]
    },
    {
      "cell_type": "markdown",
      "metadata": {
        "id": "pOxCruNHdp9M",
        "colab_type": "text"
      },
      "source": [
        "**Örnek Uygulama:**\n",
        "```\n",
        "degisken = 1\n",
        "```"
      ]
    },
    {
      "cell_type": "markdown",
      "metadata": {
        "id": "SVwQ0Tf-isfz",
        "colab_type": "text"
      },
      "source": [
        "**Görev:** Henüz tanımlanmamış bir değişken kullanırsanız ne olacağını kontrol edin!"
      ]
    },
    {
      "cell_type": "code",
      "metadata": {
        "id": "1W14OfkxeGuN",
        "colab_type": "code",
        "outputId": "ad785d13-3f84-4a14-931a-ebb67e7bbabe",
        "colab": {
          "base_uri": "https://localhost:8080/",
          "height": 180
        }
      },
      "source": [
        "degisken1 = \"Veri\"\n",
        "print(degisken2)"
      ],
      "execution_count": 0,
      "outputs": [
        {
          "output_type": "error",
          "ename": "NameError",
          "evalue": "ignored",
          "traceback": [
            "\u001b[0;31m---------------------------------------------------------------------------\u001b[0m",
            "\u001b[0;31mNameError\u001b[0m                                 Traceback (most recent call last)",
            "\u001b[0;32m<ipython-input-6-031e866b659a>\u001b[0m in \u001b[0;36m<module>\u001b[0;34m()\u001b[0m\n\u001b[1;32m      1\u001b[0m \u001b[0mdegisken1\u001b[0m \u001b[0;34m=\u001b[0m \u001b[0;34m\"Veri\"\u001b[0m\u001b[0;34m\u001b[0m\u001b[0;34m\u001b[0m\u001b[0m\n\u001b[0;32m----> 2\u001b[0;31m \u001b[0mprint\u001b[0m\u001b[0;34m(\u001b[0m\u001b[0mdegisken2\u001b[0m\u001b[0;34m)\u001b[0m\u001b[0;34m\u001b[0m\u001b[0;34m\u001b[0m\u001b[0m\n\u001b[0m",
            "\u001b[0;31mNameError\u001b[0m: name 'degisken2' is not defined"
          ]
        }
      ]
    },
    {
      "cell_type": "markdown",
      "metadata": {
        "id": "GwLgmn1fi04Q",
        "colab_type": "text"
      },
      "source": [
        "**Görev:** Tanımladığınız değişkeni ekrana yazdırın!"
      ]
    },
    {
      "cell_type": "code",
      "metadata": {
        "id": "JrNUlQAyeqHQ",
        "colab_type": "code",
        "outputId": "353ede15-416d-46b3-e4e6-5c760b3593bc",
        "colab": {
          "base_uri": "https://localhost:8080/",
          "height": 34
        }
      },
      "source": [
        "degisken1 = \"Veri\"\n",
        "print(degisken1)"
      ],
      "execution_count": 0,
      "outputs": [
        {
          "output_type": "stream",
          "text": [
            "Veri\n"
          ],
          "name": "stdout"
        }
      ]
    },
    {
      "cell_type": "markdown",
      "metadata": {
        "id": "_6eRj3kmeyGw",
        "colab_type": "text"
      },
      "source": [
        "## Değişken Türleri\n",
        "Python'da iki ana sayı türü vardır; tam sayılar ve ondalık sayılar.\n",
        "\n",
        "---\n",
        "\n",
        "\n",
        "**Dikkat:** Ondalık sayıların yazımında Türkçe'de *virgül* (,) kullanılmasına rağmen, programlama dillerinin evrensel yazım kuralları içerisinde ondalık sayılar *nokta* (.) ile ifade edilir."
      ]
    },
    {
      "cell_type": "markdown",
      "metadata": {
        "id": "37MxozrGf1-F",
        "colab_type": "text"
      },
      "source": [
        "**Örnek Uygulama:**\n",
        "```\n",
        "tamSayi = 5\n",
        "print(type(tamSayi))   # tamSayi değişkeninin türünü yazdırır\n",
        "\n",
        "ondalikSayi = 7.4\n",
        "print(type(ondalikSayi) # ondalikSayi değişkeninin türünü yazdırır\n",
        "```"
      ]
    },
    {
      "cell_type": "markdown",
      "metadata": {
        "id": "asiOZVmbn_TO",
        "colab_type": "text"
      },
      "source": [
        "**Görev:** \"sayi\" değişkeninin türünü belirleyerek ekrana yazdırın!"
      ]
    },
    {
      "cell_type": "code",
      "metadata": {
        "id": "UrGfF38CgjdQ",
        "colab_type": "code",
        "cellView": "both",
        "outputId": "a674e91c-4155-4552-9836-f7a9053c22d9",
        "colab": {
          "base_uri": "https://localhost:8080/",
          "height": 51
        }
      },
      "source": [
        "sayi = 9.0 \n",
        "print(type(ondalikSayi))\n",
        "print(sayi)\n"
      ],
      "execution_count": 0,
      "outputs": [
        {
          "output_type": "stream",
          "text": [
            "<class 'float'>\n",
            "9.0\n"
          ],
          "name": "stdout"
        }
      ]
    },
    {
      "cell_type": "markdown",
      "metadata": {
        "id": "i3Qht_zmjLf2",
        "colab_type": "text"
      },
      "source": [
        "## Değişken Türü Dönüştürme\n",
        "Bir veri türünü diğerine dönüştürmenize izin veren birkaç yerleşik fonksiyon (built-in function) vardır. Bu fonksiyonlar (\"int()\", \"str()\", \"float()\") uygulandıkları değişkeni dönüştürerek yeni bir nesne döndürürler. "
      ]
    },
    {
      "cell_type": "markdown",
      "metadata": {
        "id": "F-Zp8zfmkzJX",
        "colab_type": "text"
      },
      "source": [
        "**Örnek Uygulama**\n",
        "```\n",
        "sayi = 6.5\n",
        "print(type(sayi)) # \"sayi\" değişkeninin türünü ondalık olarak yazdırır\n",
        "print(sayi)\n",
        "\n",
        "sayi = int(sayi)  # Ondalık sayı olan \"sayi\" değişkenini tam sayıya dönüştürür\n",
        "print(type(sayi))\n",
        "print(sayi)\n",
        "\n",
        "sayi = float(sayi) # Tam sayı olan \"sayi\" değişkenini ondalık sayıya dönüştürür\n",
        "print(type(sayi))\n",
        "print(sayi)\n",
        "\n",
        "sayi = str(sayi) # \"sayi\" değişkeni artık düz metin halini almıştır\n",
        "print(type(sayi))\n",
        "print(sayi)\n",
        "```"
      ]
    },
    {
      "cell_type": "markdown",
      "metadata": {
        "id": "7j51gKaIlM-u",
        "colab_type": "text"
      },
      "source": [
        "**Görev:** Ondalık sayıyı tam sayıya dönüştürün ve ekrana değişken türünü ve değeri yazdırın!"
      ]
    },
    {
      "cell_type": "code",
      "metadata": {
        "id": "o9ZQ6Jr3lL6A",
        "colab_type": "code",
        "outputId": "6753c1e4-03ee-49d0-f38a-fa512b16fc4c",
        "colab": {
          "base_uri": "https://localhost:8080/",
          "height": 51
        }
      },
      "source": [
        "sayi = 3.14\n",
        "sayi = int(sayi)\n",
        "print(type(sayi))\n",
        "print(sayi)"
      ],
      "execution_count": 0,
      "outputs": [
        {
          "output_type": "stream",
          "text": [
            "<class 'int'>\n",
            "3\n"
          ],
          "name": "stdout"
        }
      ]
    },
    {
      "cell_type": "markdown",
      "metadata": {
        "id": "f5MK6vZOl6dG",
        "colab_type": "text"
      },
      "source": [
        "## Aritmetik Operatörler\n",
        "Diğer tüm programlama dillerinde olduğu gibi, toplama (+), çıkarma (-), çarpma (yıldız) ve bölme (/) operatörleri sayılarla kullanılabilir. Ek olarak Python'un üs (çift yıldız) ve mod (%) operatörleri vardır.\n",
        "\n",
        "---\n",
        "**Not:** Matematik işlemlerinde geçerli olan aritmetik operatörlerin öncelik sıralamaları (çarpma, bölme, toplama, çıkarma) ve parantezlerin önceliği kuralları Python içindeki matematiksel işlemler için de geçerlidir. \n"
      ]
    },
    {
      "cell_type": "markdown",
      "metadata": {
        "id": "1THb0XpGmwSD",
        "colab_type": "text"
      },
      "source": [
        "**Örnek Uygulama:**\n",
        "```\n",
        "# Toplama işlemi\n",
        "sayi = 7.0\n",
        "sonuc = sayi + 3.5\n",
        "print(sonuc)\n",
        "\n",
        "# Çıkarma işlemi\n",
        "sayi = 200\n",
        "sonuc = sayi - 35\n",
        "print(sonuc)\n",
        "\n",
        "# Çarpma işlemi\n",
        "sayi = 44\n",
        "sonuc = sayi * 10\n",
        "print(sonuc)\n",
        "\n",
        "# Bölme işlemi\n",
        "sayi = 30\n",
        "sonuc = sayi / 3\n",
        "print(sonuc)\n",
        "\n",
        "# Üs alma işlemi\n",
        "sayi = 30\n",
        "sonuc = sayi ** 3\n",
        "print(sonuc)\n",
        "\n",
        "# Mod alma işlemi \n",
        "sayi = 35\n",
        "sonuc = sayi % 4\n",
        "print(sonuc)\n",
        "```"
      ]
    },
    {
      "cell_type": "markdown",
      "metadata": {
        "id": "jp3PvDghnJkY",
        "colab_type": "text"
      },
      "source": [
        "**Görev:** Aşağıda değer atamaları tamamlanmış olan değişkenleri kullanarak ürünlerin peşin satın alınma bedelini TL olarak hesaplayınız ve ürün adı ile birlikte ekrana yazdırınız! İpucu: Ürün adını ve ürün bedelini tek bir satırda yazdırmak isterseniz ürün bedelini str() fonksiyonu ile düz metin değişken türüne çevirmeniz gerekir. "
      ]
    },
    {
      "cell_type": "code",
      "metadata": {
        "id": "oMY_MZjmndQj",
        "colab_type": "code",
        "outputId": "aaa7cd94-2711-4db6-8c0f-5f8deb8da122",
        "colab": {
          "base_uri": "https://localhost:8080/",
          "height": 85
        }
      },
      "source": [
        "urunAdi = \"Bisiklet\"\n",
        "urunBedeliAvro = 850\n",
        "pariteAvroTL = 7\n",
        "urunAdet = 3\n",
        "pesinAdetIndirimTL = 500\n",
        "\n",
        "ürünBedeli = urunBedeliAvro * pariteAvroTL\n",
        "print(ürünBedeli)\n",
        "indirimliFiyat = ürünBedeli - pesinAdetIndirimTL\n",
        "print(indirimliFiyat)\n",
        "toplamÜrünFiyat = indirimliFiyat * urunAdet\n",
        "print(toplamÜrünFiyat)\n",
        "print(\"toplamBedel: \" + str(toplamÜrünFiyat))\n",
        "\n",
        "\n",
        "\n"
      ],
      "execution_count": 0,
      "outputs": [
        {
          "output_type": "stream",
          "text": [
            "5950\n",
            "5450\n",
            "16350\n",
            "toplamBedel: 16350\n"
          ],
          "name": "stdout"
        }
      ]
    },
    {
      "cell_type": "markdown",
      "metadata": {
        "id": "OUWeht_8nyCx",
        "colab_type": "text"
      },
      "source": [
        "## Artırılmış Atama Operatörleri\n",
        "Artırılmış atama, bir değişkenin mevcut değerine belirlenen değerin eklenerek (+=) ya da çıkartılarak (-=) atanması işlemidir. \n"
      ]
    },
    {
      "cell_type": "markdown",
      "metadata": {
        "id": "r-6ImrKCobv_",
        "colab_type": "text"
      },
      "source": [
        "**Örnek Uygulama**\n",
        "\n",
        "```\n",
        "sayi = 8\n",
        "sayi += 4  # Mevcut değer olan 8'e 4 daha ekler.\n",
        "print(sayi) \n",
        "\n",
        "sayi -= 6 # Mevcut değer olan 12'den 6 eksiltir.\n",
        "print(\"sayi = \" + str(sayi))\n",
        "```\n",
        "\n"
      ]
    },
    {
      "cell_type": "markdown",
      "metadata": {
        "id": "Du5w88EaovzQ",
        "colab_type": "text"
      },
      "source": [
        "**Görev:** \"sayi\" değişkenine 20 ekleyip, 10 çıkartarak değişkenin güncel değerini ekrana yazdırın! "
      ]
    },
    {
      "cell_type": "code",
      "metadata": {
        "id": "ro0-FwgDpCkx",
        "colab_type": "code",
        "outputId": "74f8e9ba-08dd-44c7-9ec5-706b7d8b8334",
        "colab": {
          "base_uri": "https://localhost:8080/",
          "height": 34
        }
      },
      "source": [
        "sayi = 55\n",
        "sayi += 20\n",
        "sayi -= 10\n",
        "print(sayi)\n"
      ],
      "execution_count": 0,
      "outputs": [
        {
          "output_type": "stream",
          "text": [
            "65\n"
          ],
          "name": "stdout"
        }
      ]
    },
    {
      "cell_type": "markdown",
      "metadata": {
        "id": "C0G673j0pQD4",
        "colab_type": "text"
      },
      "source": [
        "## Boolean Operatörleri\n",
        "Boolean, yalnızca **Doğru (True)** veya **Yanlış (False)** olabilen bir değer türüdür. Eşitlik (==) operatörleri karşılaştırılan iki değişkenin eşit olup olmadığını kontrol eder ve *True* ya da *False* değeri döndürür."
      ]
    },
    {
      "cell_type": "markdown",
      "metadata": {
        "id": "Trd3P6X4pwbu",
        "colab_type": "text"
      },
      "source": [
        "**Örnek Uygulama:**\n",
        "```\n",
        "deger1 = 10\n",
        "deger2 = 10\n",
        "esitMi = (deger1 == deger2) # Eşit olup olmadıkları kontrol ediliyor\n",
        "print(esitMi) # Değişken \"True\" olarak dönüyor\n",
        "\n",
        "deger1 = \"Python\"\n",
        "deger2 = \"Piton\"\n",
        "esitMi = (deger1 == deger2) # Eşit olup olmadıkları kontrol ediliyor\n",
        "print(esitMi) # Değişken \"False\" olarak dönüyor\n",
        "```"
      ]
    },
    {
      "cell_type": "markdown",
      "metadata": {
        "id": "QSvUSLN4p7Ra",
        "colab_type": "text"
      },
      "source": [
        "**Görev:** Atamaları yapılmış olan değişkenler arasındaki eşitliği kontrol edin ve sonucu ekrana yazıdırın!"
      ]
    },
    {
      "cell_type": "code",
      "metadata": {
        "id": "ihVP2eQpttpv",
        "colab_type": "code",
        "outputId": "a0778581-bf6e-49ed-844c-4e334adb77aa",
        "colab": {
          "base_uri": "https://localhost:8080/",
          "height": 34
        }
      },
      "source": [
        "sifre = \"Python2020\"\n",
        "sifreTekrar = \"Piton2020\"\n",
        "esitlik = (sifre == sifreTekrar)\n",
        "print(esitlik)"
      ],
      "execution_count": 0,
      "outputs": [
        {
          "output_type": "stream",
          "text": [
            "False\n"
          ],
          "name": "stdout"
        }
      ]
    },
    {
      "cell_type": "markdown",
      "metadata": {
        "id": "NU2bhXlwuUtj",
        "colab_type": "text"
      },
      "source": [
        "## Karşılaştırma Operatörleri\n",
        "Python'da, >=, <= , >, < vb. dahil olmak üzere birçok operatör bulunmaktadır. Python'daki tüm karşılaştırma operatörleri aynı önceliğe sahiptir. Karşılaştırma sonucunda boole değerleri (*True* ya da *False*) döner. Karşılaştırma operatörleri isteğe bağlı olarak arka arkaya da (zincirlenerek) kullanılabilir."
      ]
    },
    {
      "cell_type": "markdown",
      "metadata": {
        "id": "kUkH4Qe6vBIm",
        "colab_type": "text"
      },
      "source": [
        "**Örnek Uygulama:**\n",
        "```\n",
        "deger1 = 5\n",
        "deger2 = 7\n",
        "deger3 = 9\n",
        "\n",
        "print(deger1 < deger2 < deger3)  # Sonuç \"True\" olarak dönecektir\n",
        "```\n",
        "\n"
      ]
    },
    {
      "cell_type": "markdown",
      "metadata": {
        "id": "JrbnTUNavEsJ",
        "colab_type": "text"
      },
      "source": [
        "**Görev:** Aşağıda değer atamaları tamamlanmış olan değişkenleri kullanarak ürünlerin peşin satın alınma bedelini TL olarak hesaplayın. Toplam satın alma bedeli ile bütçenizi karşılaştırın. Satın alma bedelini ve bütçenizi ekrana yazdırın. Ödeme bütçenizi aşıyorsa ekrana \"False\", aşmıyorsa \"True\" yazdırın.  "
      ]
    },
    {
      "cell_type": "code",
      "metadata": {
        "id": "chsHnUn9vWDA",
        "colab_type": "code",
        "outputId": "6c0246be-c3cb-47eb-dda3-50a85ed642a2",
        "colab": {
          "base_uri": "https://localhost:8080/",
          "height": 85
        }
      },
      "source": [
        "urunAdi = \"Bisiklet\"\n",
        "urunBedeliAvro = 850\n",
        "kurAvro = 7\n",
        "urunAdet = 3\n",
        "pesinAdetIndirimTL = 500\n",
        "butce = 15000\n",
        "urunAdetBedeli = urunBedeliAvro * kurAvro\n",
        "print(urunAdetBedeli)\n",
        "indirimli = urunAdetBedeli - pesinAdetIndirimTL\n",
        "print(indirimli)\n",
        "toplamUrunFiyat = indirimli * urunAdet\n",
        "print(\"Toplam bedel: \" + str(toplamUrunFiyat))\n",
        "print(toplamUrunFiyat < butce)"
      ],
      "execution_count": 0,
      "outputs": [
        {
          "output_type": "stream",
          "text": [
            "5950\n",
            "5450\n",
            "Toplam bedel: 16350\n",
            "False\n"
          ],
          "name": "stdout"
        }
      ]
    },
    {
      "cell_type": "markdown",
      "metadata": {
        "id": "qhLUJ8wJM79g",
        "colab_type": "text"
      },
      "source": [
        "# Part 03: Metin Katarları"
      ]
    },
    {
      "cell_type": "markdown",
      "metadata": {
        "id": "9UNmx1IUNSrB",
        "colab_type": "text"
      },
      "source": [
        "## Birbirine Bağlama\n",
        "Birbirine bağlama artı (+) işlemini kullanarak iki metin katarının birleştirilmesi işlemine denir."
      ]
    },
    {
      "cell_type": "markdown",
      "metadata": {
        "id": "6usSXTKYze8y",
        "colab_type": "text"
      },
      "source": [
        "**Örnek Uygulama:**"
      ]
    },
    {
      "cell_type": "markdown",
      "metadata": {
        "id": "1CkYIUTqNhSR",
        "colab_type": "text"
      },
      "source": [
        "\n",
        "\n",
        "```\n",
        "deger1 = \"Merhaba\"\n",
        "deger2 = \"Dünya\"\n",
        "\n",
        "selamlama = deger1 + \" \" + deger2\n",
        "print(selamlama)      # Çıktı: Merhaba Dünya\n",
        "```\n",
        "\n"
      ]
    },
    {
      "cell_type": "markdown",
      "metadata": {
        "id": "n9rA4HAHNqI7",
        "colab_type": "text"
      },
      "source": [
        "**Görev:** *ad*, *soyad* ve *hitap* değişkenlerini tek bir çıktıda birleştirecek kodu yazın! "
      ]
    },
    {
      "cell_type": "code",
      "metadata": {
        "id": "xyNs9VEFOHJc",
        "colab_type": "code",
        "outputId": "e38a3e3b-891b-45aa-aa0a-8f6404f616b0",
        "colab": {
          "base_uri": "https://localhost:8080/",
          "height": 34
        }
      },
      "source": [
        "hitap = \"Öğr. Gör.\"\n",
        "ad = \"Orçun\"\n",
        "soyad = \"Madran\"\n",
        "print(hitap + \" \" + ad +\" \" + soyad)\n",
        "# Çıktı: Öğr. Gör. Orçun Madran"
      ],
      "execution_count": 0,
      "outputs": [
        {
          "output_type": "stream",
          "text": [
            "Öğr. Gör. Orçun Madran\n"
          ],
          "name": "stdout"
        }
      ]
    },
    {
      "cell_type": "markdown",
      "metadata": {
        "id": "ipcnECBCOKWX",
        "colab_type": "text"
      },
      "source": [
        "## Metin Katarı Çarpımı\n",
        "Python, metin katarlarının çarpım sayısı kadar tekrar ettirilmesini desteklemektedir."
      ]
    },
    {
      "cell_type": "markdown",
      "metadata": {
        "id": "hKQAzEYOzyIk",
        "colab_type": "text"
      },
      "source": [
        "**Örnek Uygulama:**"
      ]
    },
    {
      "cell_type": "markdown",
      "metadata": {
        "id": "HXxuq9kMO2xm",
        "colab_type": "text"
      },
      "source": [
        "\n",
        "\n",
        "```\n",
        "metin = \"Hadi! \"\n",
        "metniCarp = metin * 4\n",
        "print(metniCarp) # Çıktı: Hadi! Hadi! Hadi! Hadi! \n",
        "```\n",
        "\n"
      ]
    },
    {
      "cell_type": "markdown",
      "metadata": {
        "id": "56NercDUOh8x",
        "colab_type": "text"
      },
      "source": [
        "**Görev:** Sizi sürekli bekleten arkadaşınızı uyarabilmek için istediğiniz sayıda \"Hadi!\" kelimesini ekrana yazdırın!"
      ]
    },
    {
      "cell_type": "code",
      "metadata": {
        "id": "j_CdqS1bPHAb",
        "colab_type": "code",
        "outputId": "02edb376-09b0-4610-a13d-bd3e9311728a",
        "colab": {
          "base_uri": "https://localhost:8080/",
          "height": 34
        }
      },
      "source": [
        "metin = \"Hadi! \"\n",
        "metniUzat = metin * 10\n",
        "print(metniUzat) \n",
        "# Çıktı: Hadi! Hadi! Hadi! Hadi! ... Hadi!"
      ],
      "execution_count": 0,
      "outputs": [
        {
          "output_type": "stream",
          "text": [
            "Hadi! Hadi! Hadi! Hadi! Hadi! Hadi! Hadi! Hadi! Hadi! Hadi! \n"
          ],
          "name": "stdout"
        }
      ]
    },
    {
      "cell_type": "markdown",
      "metadata": {
        "id": "Xo6sOrv-PpgY",
        "colab_type": "text"
      },
      "source": [
        "##Metin Katarı Dizinleme\n",
        "Konumunu biliniyorsa, bir metin katarındaki ilgili karaktere erişebilebilir. Örneğin; str[index] metin katarındaki indeks numarasının karşılık geldiği karakteri geri döndürecektir. İndekslerin her zaman 0'dan başladığı unutulmamalıdır. İndeksler, sağdan saymaya başlamak için negatif sayılar da olabilir. -0, 0 ile aynı olduğundan, negatif indeksler -1 ile başlar."
      ]
    },
    {
      "cell_type": "markdown",
      "metadata": {
        "id": "93mxLsQ0z9bB",
        "colab_type": "text"
      },
      "source": [
        "**Örnek Uygulama:**"
      ]
    },
    {
      "cell_type": "markdown",
      "metadata": {
        "id": "VV71MAQFQaPs",
        "colab_type": "text"
      },
      "source": [
        "\n",
        "\n",
        "```\n",
        "metin = \"Python Programlama Dili\"\n",
        "print(\"h \" + metin[3])     # Not: indeksler 0'dan başlar\n",
        "```\n"
      ]
    },
    {
      "cell_type": "markdown",
      "metadata": {
        "id": "55Lviae-QTax",
        "colab_type": "text"
      },
      "source": [
        "**Görev:** İndeks numarasını kullanarak metin katarındaki ikinci \"P\" harfini ekrana yazdırın!\n"
      ]
    },
    {
      "cell_type": "code",
      "metadata": {
        "id": "dHJ48v5WQe4c",
        "colab_type": "code",
        "outputId": "be4f9f03-db4c-4f9f-9fb5-949b79bfdb2b",
        "colab": {
          "base_uri": "https://localhost:8080/",
          "height": 34
        }
      },
      "source": [
        "metin = \"Python Programlama Dili\"\n",
        "print(metin[7])\n",
        "# Çıktı: P"
      ],
      "execution_count": 0,
      "outputs": [
        {
          "output_type": "stream",
          "text": [
            "P\n"
          ],
          "name": "stdout"
        }
      ]
    },
    {
      "cell_type": "markdown",
      "metadata": {
        "id": "op2D6v9xQsRe",
        "colab_type": "text"
      },
      "source": [
        "## Metin Katarı Negatif Dizinleme\n",
        "Metin katarının sonlarında yer alan bir karaktere daha rahat erişebilmek için indeks numarası negatif bir değer olarak belirlenebilir."
      ]
    },
    {
      "cell_type": "markdown",
      "metadata": {
        "id": "FR64ir-m0Hw2",
        "colab_type": "text"
      },
      "source": [
        "**Örnek Uygulama:**"
      ]
    },
    {
      "cell_type": "markdown",
      "metadata": {
        "id": "kZTrtqD6RM7j",
        "colab_type": "text"
      },
      "source": [
        "\n",
        "```\n",
        "metin = \"Python Programlama Dili\"\n",
        "dHarfi = metin[-4]\n",
        "print(dHarfi)\n",
        "```\n",
        "\n"
      ]
    },
    {
      "cell_type": "markdown",
      "metadata": {
        "id": "ZM6vbbChQ_4R",
        "colab_type": "text"
      },
      "source": [
        "**Task:** Metin katarının sonunda yer alan \"i\" harfini ekrana yazdırın!"
      ]
    },
    {
      "cell_type": "code",
      "metadata": {
        "id": "d49Cfw-FRJMT",
        "colab_type": "code",
        "outputId": "4fd3c230-f103-4dee-9177-73446e24baee",
        "colab": {
          "base_uri": "https://localhost:8080/",
          "height": 34
        }
      },
      "source": [
        "metin = \"Python Programlama Dili\"\n",
        "print(metin[-1])\n",
        "#Çıktı: i"
      ],
      "execution_count": 0,
      "outputs": [
        {
          "output_type": "stream",
          "text": [
            "i\n"
          ],
          "name": "stdout"
        }
      ]
    },
    {
      "cell_type": "markdown",
      "metadata": {
        "id": "xPgrx41FRbrw",
        "colab_type": "text"
      },
      "source": [
        "##Metin Katarı Dilimleme\n",
        "Dilimleme, bir metin katarından birden çok karakter (bir alt katar) almak için kullanılır. Söz dizimi indeks numarası ile bir karaktere erişmeye benzer, ancak iki nokta üst üste işaretiyle ayrılmış iki indeks numarası kullanılır. Ör: str[ind1:ind2].\n",
        "\n",
        "Noktalı virgülün solundaki indeks numarası belirlenmezse ilk karakterden itibaren (ilk karakter dahil) seçimin yapılacağı anlamına gelir. Ör: str[:ind2]\n",
        "\n",
        "Noktalı virgülün sağındaki indeks numarası belirlenmezse son karaktere kadar (son karakter dahil) seçimin yapılacağı anlamına gelir. Ör: str[ind1:]"
      ]
    },
    {
      "cell_type": "markdown",
      "metadata": {
        "id": "cDh07_U90Kan",
        "colab_type": "text"
      },
      "source": [
        "**Örnek Uygulama:**"
      ]
    },
    {
      "cell_type": "markdown",
      "metadata": {
        "id": "X_MHtUgUSFpY",
        "colab_type": "text"
      },
      "source": [
        "\n",
        "\n",
        "```\n",
        "metin = \"Python Programlama Dili\"\n",
        "dilimle = metin[:6]      \n",
        "print(dilimle) # Çıktı: Python\n",
        "\n",
        "metin = \"Python Programlama Dili\" \n",
        "print(metin[7:]) # Çıktı: Programlama Dili\n",
        "\n",
        "```\n",
        "\n"
      ]
    },
    {
      "cell_type": "markdown",
      "metadata": {
        "id": "SjPJOtqUR7rT",
        "colab_type": "text"
      },
      "source": [
        "**Görev:** Metin katarını dilemleyerek katarda yer alan üç kelimeyi de ayrı ayrı (alt alta) ekrana yazdırın!."
      ]
    },
    {
      "cell_type": "code",
      "metadata": {
        "id": "bHxs-WnaSKie",
        "colab_type": "code",
        "outputId": "c77c55b9-38ed-464d-c225-e6f23ea1c415",
        "colab": {
          "base_uri": "https://localhost:8080/",
          "height": 68
        }
      },
      "source": [
        "metin = \"Python Programlama Dili\" \n",
        "print(metin[:6])\n",
        "print(metin[6: 18])\n",
        "print(metin[18:])\n",
        "# Çıktı:\n",
        "# Python\n",
        "# Programlama\n",
        "# Dili"
      ],
      "execution_count": 0,
      "outputs": [
        {
          "output_type": "stream",
          "text": [
            "Python\n",
            " Programlama\n",
            " Dili\n"
          ],
          "name": "stdout"
        }
      ]
    },
    {
      "cell_type": "markdown",
      "metadata": {
        "id": "aIfLylzcShEG",
        "colab_type": "text"
      },
      "source": [
        "##In Operatörü\n",
        "Bir metin katarının belirli bir harf ya da bir alt katar içerip içermediğini kontrol etmek için, in anahtar sözcüğü kullanılır."
      ]
    },
    {
      "cell_type": "markdown",
      "metadata": {
        "id": "oToLWF8F0Mx8",
        "colab_type": "text"
      },
      "source": [
        "**Örnek Uygulama:**"
      ]
    },
    {
      "cell_type": "markdown",
      "metadata": {
        "id": "pZZxStolS-Rg",
        "colab_type": "text"
      },
      "source": [
        "\n",
        "\n",
        "```\n",
        "metin = \"Python Programlama Dili\"\n",
        "print(\"Programlama\" in metin)    # Çıktı: True\n",
        "```\n",
        "\n"
      ]
    },
    {
      "cell_type": "markdown",
      "metadata": {
        "id": "551pDT0YS14M",
        "colab_type": "text"
      },
      "source": [
        "**Görev:** Metin katarında \"Python\" kelimesinin geçip geçmediğini kontrol ederek ekrana yazdırın!"
      ]
    },
    {
      "cell_type": "code",
      "metadata": {
        "id": "2CpxVwHMTENL",
        "colab_type": "code",
        "outputId": "a2232b06-2757-41fc-a1e4-c41e5307eeff",
        "colab": {
          "base_uri": "https://localhost:8080/",
          "height": 34
        }
      },
      "source": [
        "metin = \"Python Programlama Dili\"\n",
        "print(\"Python\" in metin)\n",
        "# Çıktı: True"
      ],
      "execution_count": 0,
      "outputs": [
        {
          "output_type": "stream",
          "text": [
            "True\n"
          ],
          "name": "stdout"
        }
      ]
    },
    {
      "cell_type": "markdown",
      "metadata": {
        "id": "mKLQLw8_TJyz",
        "colab_type": "text"
      },
      "source": [
        "##Metin Katarının Uzunluğu\n",
        "Bir metin katarının kaç karakter içerdiğini saymak için len() yerleşik fonksiyonu kullanılır. "
      ]
    },
    {
      "cell_type": "markdown",
      "metadata": {
        "id": "TO1s9wYS0Qhx",
        "colab_type": "text"
      },
      "source": [
        "**Örnek Uygulama:**"
      ]
    },
    {
      "cell_type": "markdown",
      "metadata": {
        "id": "aa4IkB7CTuyr",
        "colab_type": "text"
      },
      "source": [
        "\n",
        "\n",
        "```\n",
        "metin = \"Python programlama dili\"\n",
        "print(len(metin)) # Çıktı: 23\n",
        "```\n",
        "\n"
      ]
    },
    {
      "cell_type": "markdown",
      "metadata": {
        "id": "BF5DPvyuTa4R",
        "colab_type": "text"
      },
      "source": [
        "**Görev:** Metin katarındaki cümlenin ilk yarısını ekrana yazdırın!"
      ]
    },
    {
      "cell_type": "code",
      "metadata": {
        "id": "Uvnr2f1XT05N",
        "colab_type": "code",
        "outputId": "5d61c0a8-d0d1-4b7d-8825-f946af054bee",
        "colab": {
          "base_uri": "https://localhost:8080/",
          "height": 51
        }
      },
      "source": [
        "metin = \"Python programlama dili, dünyada eğitim amacıyla en çok kullanılan programlama dillerinin başında gelir.\"\n",
        "print(len(metin))\n",
        "print(metin[:52])\n",
        "# Çıktı: Python programlama dili, dünyada eğitim amacıyla en"
      ],
      "execution_count": 0,
      "outputs": [
        {
          "output_type": "stream",
          "text": [
            "104\n",
            "Python programlama dili, dünyada eğitim amacıyla en \n"
          ],
          "name": "stdout"
        }
      ]
    },
    {
      "cell_type": "markdown",
      "metadata": {
        "id": "T_u1X0aKVAO2",
        "colab_type": "text"
      },
      "source": [
        "## Özel Karakterlerden Kaçma\n",
        "Metin katarları içerisinde tek ve çift tırnak kullanımı kimi zaman sorunlara yol açmaktadır. Bu karakterin metin katarları içerisinde kullanılabilmesi için \"Ters Eğik Çizgi\" ile birlikte kullanılırlar. \n",
        "\n",
        "Örneğin: 'Önümüzdeki ay \"Ankara'da Python Eğitimi\" gerçekleştirilecek' cümlesindeki tek tırnak kullanımı soruna yol açacağından 'Önümüzdeki ay \"Ankara\\'da Python Eğitimi\" gerçekleştirilecek' şeklinde kullanılmalıdır.\n",
        "\n",
        "**Not:** Tek tırnaklı metin katarlarından kaçmak için çift tırnak ya da tam tersi kullanılabilir."
      ]
    },
    {
      "cell_type": "markdown",
      "metadata": {
        "id": "WF9cEZEE0T4q",
        "colab_type": "text"
      },
      "source": [
        "**Örnek Uygulama:**"
      ]
    },
    {
      "cell_type": "markdown",
      "metadata": {
        "id": "bJX6J5bvVbZa",
        "colab_type": "text"
      },
      "source": [
        "\n",
        "\n",
        "```\n",
        "metin = 'Önümüzdeki ay \"Ankara'da Python Eğitimi\" gerçekleştirilecektir.'\n",
        "print(metin) # Çıktı: Geçersiz söz dizimi hatası dönecektir. \n",
        "\n",
        "metin = 'Önümüzdeki ay \"Ankara\\'da Python Eğitimi\" gerçekleştirilecektir.'\n",
        "print(metin) #Çıktı: Önümüzdeki ay \"Ankara'da Python Eğitimi\" gerçekleştirilecektir.\n",
        "```\n",
        "\n"
      ]
    },
    {
      "cell_type": "markdown",
      "metadata": {
        "id": "5520MewzVPmx",
        "colab_type": "text"
      },
      "source": [
        "**Task:** Metin katarındaki cümlede yer alan noktalama işaretlerinden uygun şekilde kaçarak cümleyi ekrana yazdırın!"
      ]
    },
    {
      "cell_type": "code",
      "metadata": {
        "id": "A8Gpec2uVhxU",
        "colab_type": "code",
        "outputId": "b73f15fa-0232-4d4f-a50c-826f285bb320",
        "colab": {
          "base_uri": "https://localhost:8080/",
          "height": 34
        }
      },
      "source": [
        "metin = 'Bilimsel çalışmalarda \"Python\" kullanı\\'mı Türkiye\\'de çok yaygınlaştı!'\n",
        "print(metin)"
      ],
      "execution_count": 0,
      "outputs": [
        {
          "output_type": "stream",
          "text": [
            "Bilimsel çalışmalarda \"Python\" kullanı'mı Türkiye'de çok yaygınlaştı!\n"
          ],
          "name": "stdout"
        }
      ]
    },
    {
      "cell_type": "markdown",
      "metadata": {
        "id": "cft6m1VaVqVH",
        "colab_type": "text"
      },
      "source": [
        "##Basit Metin Katarı Metodları\n",
        "Python içinde birçok yerleşik metin katarı fonksiyonu vardır. En çok kullanılan fonksiyonlardan bazıları olarak;\n",
        "\n",
        "* tüm harfleri büyük harfe dönüştüren upper(),\n",
        "* tüm harfleri küçük harfe dönüştüren lower(),\n",
        "* sadece cümlenin ilk harfini büyük hale getiren capitalize() sayılabilir.\n",
        "\n",
        "**Not:** Python'daki yerleşik fonksiyonların bir listesini görüntüleyebilmek için metin katarından sonra bir nokta (.) koyulur ve uygun olan fonksiyonlar arayüz tarafından otomatik olarak listelenir. Bu yardımcı işlevi tetiklemek için CTRL + Bolşuk tuş kombinasyonu da kullanılabilir."
      ]
    },
    {
      "cell_type": "markdown",
      "metadata": {
        "id": "5_V3UGn20YGV",
        "colab_type": "text"
      },
      "source": [
        "**Örnek Uygulama:**"
      ]
    },
    {
      "cell_type": "markdown",
      "metadata": {
        "id": "S3-V5gloV3MM",
        "colab_type": "text"
      },
      "source": [
        "\n",
        "\n",
        "```\n",
        "metin = \"Python Programlama Dili\"\n",
        "print(metin.lower())    # Çıktı: python programlama dili\n",
        "print(metin.upper())    # Çıktı: PYTHON PROGRAMLAMA DILI\n",
        "print(metin.capitalize())    # Çıktı: Python programlama dili\n",
        "```\n",
        "\n"
      ]
    },
    {
      "cell_type": "markdown",
      "metadata": {
        "id": "-ko2Gpq_Vz23",
        "colab_type": "text"
      },
      "source": [
        "**Görev:** *anahtarKelime* ve *arananKelime* değişkenlerinde yer alan metinler karşılaştırıldığında birbirlerine eşit (==) olmalarını sağlayın ve dönen değerin \"True\" olmasını sağlayın!"
      ]
    },
    {
      "cell_type": "code",
      "metadata": {
        "id": "XfaN4psBV8wr",
        "colab_type": "code",
        "outputId": "0530d0b6-39bb-4b34-e081-e24ddbc93ff2",
        "colab": {
          "base_uri": "https://localhost:8080/",
          "height": 51
        }
      },
      "source": [
        "anahtarKelime = \"Makine Öğrenmesi\"\n",
        "arananKelime = \"makine öğrenmesi\"\n",
        "print(anahtarKelime.lower())\n",
        "print(arananKelime == anahtarKelime.lower())\n",
        "\n",
        " # Çıktı: True"
      ],
      "execution_count": 0,
      "outputs": [
        {
          "output_type": "stream",
          "text": [
            "makine öğrenmesi\n",
            "True\n"
          ],
          "name": "stdout"
        }
      ]
    },
    {
      "cell_type": "markdown",
      "metadata": {
        "id": "16m1oC6LWEdJ",
        "colab_type": "text"
      },
      "source": [
        "##Metin Katarı Biçimlendirme\n",
        "Bir metin katarından sonraki % operatörü, bir metin katarını değişkenlerle birleştirmek için kullanılır. % operatörü, bir metin katarıdanki % s öğesini, arkasından gelen değişkenle değiştirir. % d özel sembolü ise, sayısal veya ondalık değerler için yer tutucu olarak kullanılır."
      ]
    },
    {
      "cell_type": "markdown",
      "metadata": {
        "id": "Qr673Q4m0czk",
        "colab_type": "text"
      },
      "source": [
        "**Örnek Uygulama:**"
      ]
    },
    {
      "cell_type": "markdown",
      "metadata": {
        "id": "1l70j4-3WP4b",
        "colab_type": "text"
      },
      "source": [
        "\n",
        "\n",
        "```\n",
        "adsoyad = \"Orçun Madran\"\n",
        "dogumTarihi = 1976\n",
        "\n",
        "print(\"Merhaba, ben %s!\" % adsoyad) #  Çıktı: Merhaba, ben Orçun Madran!\n",
        "print(\"Ben %d doğumluyum\" % dogumTarihi) #  Ben 1976 doğumluyum.\n",
        "\n",
        "ad = \"Orçun\"\n",
        "soyad = \"Madran\"\n",
        "\n",
        "print(\"Merhaba, ben %s %s!\" % (ad, soyad)) #  Çıktı: Merhaba, ben Orçun Madran!\n",
        "```\n",
        "\n"
      ]
    },
    {
      "cell_type": "markdown",
      "metadata": {
        "id": "b7ny_Q7uWJJX",
        "colab_type": "text"
      },
      "source": [
        "**Görev:** Merhaba Orçun Madran, bu dönemki dersiniz \"Programlama Dilleri\". Başarılar! cümlesini ekrana biçimlendirmeyi kullanarak (artı işaretini kullanmadan) yazdırın!"
      ]
    },
    {
      "cell_type": "code",
      "metadata": {
        "id": "HxYY3XqGWYsi",
        "colab_type": "code",
        "outputId": "0ea719b1-e4bd-45bd-d0db-d2bd55d13c30",
        "colab": {
          "base_uri": "https://localhost:8080/",
          "height": 129
        }
      },
      "source": [
        "ad = \"Orçun\"\n",
        "soyad = \"Madran\"\n",
        "ders = \"Programlama Dilleri\"\n",
        "print(\"Merhaba %s %s,\" %(ad, soyad) str(\"bu dönemki dersiniz %s.\" %(ders)) str(\"Başarılar!\"))\n",
        "\n",
        "# Çıktı: Merhaba Orçun Madran, bu dönemki dersiniz \"Programlama Dilleri\". Başarılar!"
      ],
      "execution_count": 0,
      "outputs": [
        {
          "output_type": "error",
          "ename": "SyntaxError",
          "evalue": "ignored",
          "traceback": [
            "\u001b[0;36m  File \u001b[0;32m\"<ipython-input-79-edfa77e66117>\"\u001b[0;36m, line \u001b[0;32m4\u001b[0m\n\u001b[0;31m    print(\"Merhaba %s %s,\" %(ad, soyad) str(\"bu dönemki dersiniz %s.\" %(ders)) str(\"Başarılar!\"))\u001b[0m\n\u001b[0m                                          ^\u001b[0m\n\u001b[0;31mSyntaxError\u001b[0m\u001b[0;31m:\u001b[0m invalid syntax\n"
          ]
        }
      ]
    },
    {
      "cell_type": "markdown",
      "metadata": {
        "colab_type": "text",
        "id": "-un9IYyRlIEO"
      },
      "source": [
        "# Bölüm 04: Veri Yapıları"
      ]
    },
    {
      "cell_type": "markdown",
      "metadata": {
        "id": "H78J_wNDE1Id",
        "colab_type": "text"
      },
      "source": [
        "## Listeler\n",
        "Liste, farklı bilgi parçalarının bir koleksiyonunu tek bir değişken adı altında saklamak için kullanabileceğiniz bir veri yapısıdır. Bir liste köşeli parantez arasında virgülle ayrılmış değerler dizisi olarak yazılabilir. Ör: liste = [deger1, deger2]. Listeler farklı türden öğeler içerebilir, ancak genellikle listedeki tüm öğeler aynı türdedir. Metin katarları gibi listeler de dizine eklenebilir ve dilimlenebilir (bkz. Bölüm 3)."
      ]
    },
    {
      "cell_type": "markdown",
      "metadata": {
        "id": "T_nubI5kGCs3",
        "colab_type": "text"
      },
      "source": [
        "**Örnek Uygulama**"
      ]
    },
    {
      "cell_type": "markdown",
      "metadata": {
        "id": "O4TC5Qs2Ge8H",
        "colab_type": "text"
      },
      "source": [
        "\n",
        "\n",
        "```\n",
        "acikListe = [\"Açık Bilim\", \"Açık Erişim\", \"Açık Veri\", \"Açık Eğitim\", \"Açık Kaynak\"]   # acikListe adında yeni bir liste oluşturur\n",
        "\n",
        "print(acikListe) # Çıktı: ['Açık Bilim', 'Açık Erişim', 'Açık Veri', 'Açık Eğitim', 'Açık Kaynak']\n",
        "```\n",
        "\n"
      ]
    },
    {
      "cell_type": "markdown",
      "metadata": {
        "colab_type": "text",
        "id": "ZqYRBLZSIJvi"
      },
      "source": [
        "**Görev 1:** acikListe içinde yer alan 3. liste öğesini ekrana yazıdırın! "
      ]
    },
    {
      "cell_type": "code",
      "metadata": {
        "id": "bVSMLdnLG7Kx",
        "colab_type": "code",
        "outputId": "01f0bf05-53b0-40fa-b7f2-7da4fea7ac9b",
        "colab": {
          "base_uri": "https://localhost:8080/",
          "height": 34
        }
      },
      "source": [
        "acikListe = [\"Açık Bilim\", \"Açık Erişim\", \"Açık Veri\", \"Açık Eğitim\", \"Açık Kaynak\"]\n",
        "print(acikListe[2])"
      ],
      "execution_count": 0,
      "outputs": [
        {
          "output_type": "stream",
          "text": [
            "Açık Veri\n"
          ],
          "name": "stdout"
        }
      ]
    },
    {
      "cell_type": "markdown",
      "metadata": {
        "colab_type": "text",
        "id": "pZ4hTBC0JCln"
      },
      "source": [
        "**Görev 2:** acikListe içinde yer alan 4. ve 5. liste öğesini ekrana yazıdırın! "
      ]
    },
    {
      "cell_type": "code",
      "metadata": {
        "colab_type": "code",
        "id": "_DgLPxODI3aP",
        "outputId": "9dc02cbc-f939-4fc9-8b65-b301bad171a0",
        "colab": {
          "base_uri": "https://localhost:8080/",
          "height": 34
        }
      },
      "source": [
        "acikListe = [\"Açık Bilim\", \"Açık Erişim\", \"Açık Veri\", \"Açık Eğitim\", \"Açık Kaynak\"]\n",
        "print(acikListe[3:])"
      ],
      "execution_count": 0,
      "outputs": [
        {
          "output_type": "stream",
          "text": [
            "['Açık Eğitim', 'Açık Kaynak']\n"
          ],
          "name": "stdout"
        }
      ]
    },
    {
      "cell_type": "markdown",
      "metadata": {
        "id": "D_Vt3_mQJq9Q",
        "colab_type": "text"
      },
      "source": [
        "## Liste İşlemleri\n",
        "Append () yöntemini ya da birleştirmeyi += kullanarak listenin sonuna yeni öğeler (değerler) eklenebilir. Metin katarlarından farklı olarak, listeler değiştirilebilir bir türdür, yani liste[indeksNo] = yeni_deger kullanarak içeriklerini değiştirmek mümkündür."
      ]
    },
    {
      "cell_type": "markdown",
      "metadata": {
        "id": "m7Y-NBAALfyk",
        "colab_type": "text"
      },
      "source": [
        "**Örnek Uygulama**"
      ]
    },
    {
      "cell_type": "markdown",
      "metadata": {
        "colab_type": "text",
        "id": "3xGEUhipL11G"
      },
      "source": [
        "\n",
        "\n",
        "```\n",
        "acikListe = [\"Açık Bilim\", \"Açık Erişim\", \"Açık Veri\", \"Açık Eğitim\", \"Açık Kaynak\"]   # acikListe adında yeni bir liste oluşturur\n",
        "print(acikliste) # Çıktı: ['Açık Bilim', 'Açık Erişim', 'Açık Veri', 'Açık Eğitim', 'Açık Kaynak']\n",
        "\n",
        "acikListe += [\"Açık Donanım\", \"Açık İnovasyon\"]    # listeye iki yeni öğe ekler\n",
        "print(acikListe) # Çıktı: ['Açık Bilim', 'Açık Erişim', 'Açık Veri', 'Açık Eğitim', 'Açık Kaynak', 'Açık Donanım', 'Açık İnovasyon']\n",
        "\n",
        "acikListe.append(\"Açık Veri Gazeteciliği\")   # listeye yeni bir öğe ekler\n",
        "print(acikListe) # Çıktı: ['Açık Bilim', 'Açık Erişim', 'Açık Veri', 'Açık Eğitim', 'Açık Kaynak', 'Açık Donanım', 'Açık İnovasyon', 'Açık Veri Gazeteciliği']\n",
        "\n",
        "acikListe[4] = \"Açık Kaynak Kod\" # listenin 5. öğesini değiştirir\n",
        "print(acikListe) # Çıktı: ['Açık Bilim', 'Açık Erişim', 'Açık Veri', 'Açık Eğitim', 'Açık Kaynak Kod', 'Açık Donanım', 'Açık İnovasyon', 'Açık Veri Gazeteciliği']\n",
        "```\n",
        "\n"
      ]
    },
    {
      "cell_type": "markdown",
      "metadata": {
        "id": "5hgUnMj7ODY1",
        "colab_type": "text"
      },
      "source": [
        "**Görev:** bilgiBilim adlı bir liste oluşturun. Bu listeye bilgi bilim disiplini ile ilgili 3 adet anahtar kelime ya da kavram ekleyin. Bu listeyi ekrana yazdırın. Listeye istediğiniz bir yöntem ile (append(), +=) 2 yeni öğe ekleyin. Ekrana listenin son durumunu yazdırın. Listenizdeki son öğeyi değiştirin. Listenin son halini ekrana yazıdırn."
      ]
    },
    {
      "cell_type": "code",
      "metadata": {
        "id": "_gzwR_UGLkL4",
        "colab_type": "code",
        "outputId": "840c3375-a257-482c-c291-d3a0858df419",
        "colab": {
          "base_uri": "https://localhost:8080/",
          "height": 68
        }
      },
      "source": [
        "#bilgiBilim\n",
        "bilgiBilim = [\"Bilişim\", \"Veri\", \"Bilim\"]\n",
        "print(bilgiBilim)\n",
        "bilgiBilim += [\"Bilgi\",\"Erişim\"]\n",
        "print(bilgiBilim)\n",
        "bilgiBilim[4] = \"İleti\"\n",
        "print(bilgiBilim)"
      ],
      "execution_count": 0,
      "outputs": [
        {
          "output_type": "stream",
          "text": [
            "['Bilişim', 'Veri', 'Bilim']\n",
            "['Bilişim', 'Veri', 'Bilim', 'Bilgi', 'Erişim']\n",
            "['Bilişim', 'Veri', 'Bilim', 'Bilgi', 'İleti']\n"
          ],
          "name": "stdout"
        }
      ]
    },
    {
      "cell_type": "markdown",
      "metadata": {
        "id": "qiE0PiXLPQmM",
        "colab_type": "text"
      },
      "source": [
        "## Liste Öğeleri"
      ]
    },
    {
      "cell_type": "markdown",
      "metadata": {
        "id": "S7yYWbwTPXQ8",
        "colab_type": "text"
      },
      "source": [
        "Liste öğelerini dilimleme (slice) yaparak da atamak mümkündür. Bu bir listenin boyutunu değiştirebilir veya listeyi tamamen temizleyebilir."
      ]
    },
    {
      "cell_type": "markdown",
      "metadata": {
        "id": "rujdtp_XPp9N",
        "colab_type": "text"
      },
      "source": [
        "**Örnek Uygulama**"
      ]
    },
    {
      "cell_type": "markdown",
      "metadata": {
        "id": "_ooqgLJbPsXC",
        "colab_type": "text"
      },
      "source": [
        "\n",
        "\n",
        "```\n",
        "acikListe = [\"Açık Bilim\", \"Açık Erişim\", \"Açık Veri\", \"Açık Eğitim\", \"Açık Kaynak\"]   # acikListe adında yeni bir liste oluşturur\n",
        "print(acikListe) # Çıktı: ['Açık Bilim', 'Açık Erişim', 'Açık Veri', 'Açık Eğitim', 'Açık Kaynak']\n",
        "\n",
        "acikListe[2:4] = [\"Açık İnovasyon\"]    # \"Açık Veri\" ve \"Açık Eğitim\" öğelerinin yerine tek bir öğe ekler\n",
        "print(acikListe)  #Çıktı:  [\"Açık Bilim\", \"Açık Erişim\", \"Açık İnovasyon\", \"Açık Kaynak\"]\n",
        "\n",
        "acikListe[:2] = []     # listenin ilk iki öğesini siler\n",
        "print(acikListe)  #Çıktı:  [\"Açık İnovasyon\", \"Açık Kaynak\"]\n",
        "\n",
        "acikListe[:] = [] # listeyi temizler \n",
        "print(acikListe)  #Çıktı: []\n",
        "```\n",
        "\n"
      ]
    },
    {
      "cell_type": "markdown",
      "metadata": {
        "id": "4C3xLijJSKdE",
        "colab_type": "text"
      },
      "source": [
        "**Görev:** Önceki görevde oluşturulan \"bilgiBilim\" adlı listenin istediğiniz öğesini silerek listenin güncel halini ekrana yazdırın. Listeyi tamamen temizleyerek listenin güncel halini ekrana yazdırın."
      ]
    },
    {
      "cell_type": "code",
      "metadata": {
        "id": "uQPbQgJAQ8nq",
        "colab_type": "code",
        "outputId": "18c24004-9d2f-4d0c-a8f8-2839fc8104ec",
        "colab": {
          "base_uri": "https://localhost:8080/",
          "height": 51
        }
      },
      "source": [
        "#bilgiBilim\n",
        "bilgiBilim[:3] = []\n",
        "print(bilgiBilim)\n",
        "bilgiBilim[:] = []\n",
        "print(bilgiBilim)"
      ],
      "execution_count": 0,
      "outputs": [
        {
          "output_type": "stream",
          "text": [
            "['Bilgi', 'İleti']\n",
            "[]\n"
          ],
          "name": "stdout"
        }
      ]
    },
    {
      "cell_type": "markdown",
      "metadata": {
        "id": "J_f83oCDS-Hz",
        "colab_type": "text"
      },
      "source": [
        "## Demetler (Tuples)"
      ]
    },
    {
      "cell_type": "markdown",
      "metadata": {
        "id": "9er0WsfhTBpI",
        "colab_type": "text"
      },
      "source": [
        "Demetler neredeyse listelerle aynı. Demetler ve listeler arasındaki tek önemli fark, demetlerin değiştirilememesidir. Demetlere öğe eklenmez, öğe değiştirilmez veya demetlerden öğe silinemez. Demetler, parantez içine alınmış bir virgül operatörü tarafından oluşturulur. Ör: demet = (\"deger1\", \"deger2\", \"deger3\"). Tek bir öğe demetinde (\"d\",) gibi bir virgül olmalıdır."
      ]
    },
    {
      "cell_type": "markdown",
      "metadata": {
        "id": "yvlCXOLOTq0o",
        "colab_type": "text"
      },
      "source": [
        "**Örnek Uygulama**"
      ]
    },
    {
      "cell_type": "markdown",
      "metadata": {
        "id": "h95qzA42Tti-",
        "colab_type": "text"
      },
      "source": [
        "\n",
        "\n",
        "```\n",
        "ulkeKodlari = (\"TR\", \"US\", \"EN\", \"JP\")\n",
        "print(ulkeKodlari)   # Çıktı: ('TR', 'US', 'EN', 'JP')\n",
        "```\n",
        "\n"
      ]
    },
    {
      "cell_type": "markdown",
      "metadata": {
        "id": "ON1kJ2-nU2ZO",
        "colab_type": "text"
      },
      "source": [
        "**Görev:** Kongre Kütüphanesi konu başlıkları listesinin kodlarından oluşan bir demet oluşturun ve ekrana yazdırın! Oluşturulan demet içindeki tek bir öğeyi ekrana yazdırın!"
      ]
    },
    {
      "cell_type": "code",
      "metadata": {
        "id": "p4i7BTX1Uv9S",
        "colab_type": "code",
        "outputId": "0c60eb95-0b61-4fba-9744-83e7969285e5",
        "colab": {
          "base_uri": "https://localhost:8080/",
          "height": 34
        }
      },
      "source": [
        "#konuBasliklari\n",
        "konuBasliklari = (\"A\", \"B\", \"c\", \"CB\")\n",
        "print(konuBasliklari)"
      ],
      "execution_count": 0,
      "outputs": [
        {
          "output_type": "stream",
          "text": [
            "('A', 'B', 'c', 'CB')\n"
          ],
          "name": "stdout"
        }
      ]
    },
    {
      "cell_type": "markdown",
      "metadata": {
        "id": "HkDm5do0Vduc",
        "colab_type": "text"
      },
      "source": [
        "## Sözlükler\n",
        "Sözlük, listeye benzer, ancak sözlük içindeki değerlere indeks numarası yerine bir anahtara bakarak erişilebilir. Bir anahtar herhangi bir metin katarı veya rakam olabilir. Sözlükler ayraç içine alınır. Ör: sozluk = {'anahtar1': \"değer1\", 'anahtar2': \"değer2\"}."
      ]
    },
    {
      "cell_type": "markdown",
      "metadata": {
        "id": "KAS6zUyhV6BQ",
        "colab_type": "text"
      },
      "source": [
        "**Örnek Uygulama**"
      ]
    },
    {
      "cell_type": "markdown",
      "metadata": {
        "id": "e1BbS2f3V9le",
        "colab_type": "text"
      },
      "source": [
        "\n",
        "\n",
        "```\n",
        "adresDefteri = {\"Hacettepe Üniversitesi\": \"hacettepe.edu.tr\", \"ODTÜ\": \"odtu.edu.tr\", \"Bilkent Üniversitesi\": \"bilkent.edu.tr\"} # yeni bir sözlük oluşturur\n",
        "print(adresDefteri) # Çıktı: {'Hacettepe Üniversitesi': 'hacettepe.edu.tr', 'ODTÜ': 'odtu.edu.tr', 'Bilkent Üniversitesi': 'bilkent.edu.tr'}\n",
        "\n",
        "adresDefteri[\"Ankara Üniversitesi\"] = \"ankara.edu.tr\" #sözlüğe yeni bir öğe ekler\n",
        "print(adresDefteri)  # Çıktı: {'Hacettepe Üniversitesi': 'hacettepe.edu.tr', 'ODTÜ': 'odtu.edu.tr', 'Bilkent Üniversitesi': 'bilkent.edu.tr', 'Ankara Üniversitesi': 'ankara.edu.tr'}\n",
        "\n",
        "del adresDefteri [\"Ankara Üniversitesi\"] #sözlükten belirtilen öğeyi siler\n",
        "print(adresDefteri) # Çıktı: {'Hacettepe Üniversitesi': 'hacettepe.edu.tr', 'ODTÜ': 'odtu.edu.tr', 'Bilkent Üniversitesi': 'bilkent.edu.tr'}\n",
        "```\n",
        "\n"
      ]
    },
    {
      "cell_type": "markdown",
      "metadata": {
        "id": "fDWQzlKTXYbo",
        "colab_type": "text"
      },
      "source": [
        "**Görev:** İstediğin herhangi bir konuda 5 öğeye sahip bir sözlük oluştur. Sözlüğü ekrana yazdır. Sözlükteki belirli bir öğeyi ekrana yazdır. Sözlükteki belirli bir öğeyi silerek sözlüğün güncel halini ekrana yazdır!"
      ]
    },
    {
      "cell_type": "code",
      "metadata": {
        "id": "t4-oPZTRXEuQ",
        "colab_type": "code",
        "outputId": "46977192-000c-44be-d0c5-03f5ad2a36cd",
        "colab": {
          "base_uri": "https://localhost:8080/",
          "height": 51
        }
      },
      "source": [
        "#sozluk\n",
        "sozluk = {\"Beyaz\": \"Saflık\", \"Kırmızı\": \"Aşk\", \"Mor\": \"Para\", \"Yeşil\": \"Sağlık\"}\n",
        "print(sozluk)\n",
        "del sozluk[\"Kırmızı\"]\n",
        "print(sozluk)"
      ],
      "execution_count": 0,
      "outputs": [
        {
          "output_type": "stream",
          "text": [
            "{'Beyaz': 'Saflık', 'Kırmızı': 'Aşk', 'Mor': 'Para', 'Yeşil': 'Sağlık'}\n",
            "{'Beyaz': 'Saflık', 'Mor': 'Para', 'Yeşil': 'Sağlık'}\n"
          ],
          "name": "stdout"
        }
      ]
    },
    {
      "cell_type": "markdown",
      "metadata": {
        "id": "9qqctZNZX6q4",
        "colab_type": "text"
      },
      "source": [
        "## Sözlük Değerleri ve Anahtarları\n",
        "Sözlüklerde values() ve keys() gibi birçok yararlı fonksiyon vardır. Bir sozlük adı ve ardından noktadan sonra çıkan listeyi kullanarak geri kalan fonksiyolar incelenebilir."
      ]
    },
    {
      "cell_type": "markdown",
      "metadata": {
        "id": "SSfVp3ITYa42",
        "colab_type": "text"
      },
      "source": [
        "**Örnek Uygulama**"
      ]
    },
    {
      "cell_type": "markdown",
      "metadata": {
        "id": "EaYu0M-1Ydia",
        "colab_type": "text"
      },
      "source": [
        "\n",
        "\n",
        "```\n",
        "adresDefteri = {\"Hacettepe Üniversitesi\": \"hacettepe.edu.tr\", \"ODTÜ\": \"odtu.edu.tr\", \"Bilkent Üniversitesi\": \"bilkent.edu.tr\"} # yeni bir sözlük oluşturur\n",
        "print(adresDefteri) # Çıktı: {'Hacettepe Üniversitesi': 'hacettepe.edu.tr', 'ODTÜ': 'odtu.edu.tr', 'Bilkent Üniversitesi': 'bilkent.edu.tr'}\n",
        "\n",
        "print(adresDefteri.values()) # Çıktı: dict_values(['hacettepe.edu.tr', 'odtu.edu.tr', 'bilkent.edu.tr'])\n",
        "\n",
        "print(adresDefteri.keys()) # Çıktı: dict_keys(['Hacettepe Üniversitesi', 'ODTÜ', 'Bilkent Üniversitesi'])\n",
        "```\n",
        "\n"
      ]
    },
    {
      "cell_type": "markdown",
      "metadata": {
        "id": "twxTKZ-XY_5l",
        "colab_type": "text"
      },
      "source": [
        "**Görev:** İstediğin bir konuda istediğin öğe saysına sahip bir sözlük oluştur. Sözlükler ile ilgili farklı fonksiyoları dene. Sonuçları ekrana yazdır!"
      ]
    },
    {
      "cell_type": "code",
      "metadata": {
        "id": "CcNcGoOaZfja",
        "colab_type": "code",
        "outputId": "17617389-b537-4e18-85be-39782c8acb0e",
        "colab": {
          "base_uri": "https://localhost:8080/",
          "height": 68
        }
      },
      "source": [
        "#yeniSozluk\n",
        "yeniSozluk = {\"One\": \"Bir\", \"Two\": \"İki\", \"Three\": \"Üç\"}\n",
        "print(yeniSozluk)\n",
        "print(yeniSozluk.values())\n",
        "print(yeniSozluk.keys())"
      ],
      "execution_count": 0,
      "outputs": [
        {
          "output_type": "stream",
          "text": [
            "{'One': 'Bir', 'Two': 'İki', 'Three': 'Üç'}\n",
            "dict_values(['Bir', 'İki', 'Üç'])\n",
            "dict_keys(['One', 'Two', 'Three'])\n"
          ],
          "name": "stdout"
        }
      ]
    },
    {
      "cell_type": "markdown",
      "metadata": {
        "id": "iFlaNCzFpdIj",
        "colab_type": "text"
      },
      "source": [
        "##In Anahtar Kelimesi\n",
        "\"In\" anahtar sözcüğü, bir listenin veya sözlüğün belirli bir öğe içerip içermediğini kontrol etmek için kullanılır. Daha önce metin katarlarındaki kullanıma benzer bir kullanımı vardır. \"In\" anahtar sözcüğü ile öğe kontrolü kontrolü yapıldıktan sonra sonuç öğe listede ya da sözlükte yer alıyorsa *True* yer almıyorsa *False* olarak geri döner.\n",
        "\n",
        "**Önemli**: Aranan öğe ile liste ya da sözlük içinde yer alan öğelerin karşılaştırılması sırasında büyük-küçük harf duyarlılığı bulunmaktadır. Ör: \"Bilgi\" ve \"bilgi\" iki farklı öğe olarak değerlendirilir."
      ]
    },
    {
      "cell_type": "markdown",
      "metadata": {
        "id": "0oPHzw0wq5rw",
        "colab_type": "text"
      },
      "source": [
        "**Örnek Uygulama**"
      ]
    },
    {
      "cell_type": "markdown",
      "metadata": {
        "id": "rZ-pjki1q6bs",
        "colab_type": "text"
      },
      "source": [
        "\n",
        "\n",
        "```\n",
        "bilgiKavramları = [\"indeks\", \"erişim\", \"koleksiyon\"]   # yeni bir liste oluşturur\n",
        "\n",
        "print(\"Erişim\" in bilgiKavramları)    # Çıktı: False\n",
        "\n",
        "bilgiSozlugu = {\"indeks\": \"index\", \"erişim\": \"access\", \"koleksiyon\": \"collection\"}   # yeni bir sozluk oluşturur\n",
        "\n",
        "print(\"koleksiyon\" in bilgiSozlugu.keys())  #  çıktı: True\n",
        "```\n",
        "\n"
      ]
    },
    {
      "cell_type": "markdown",
      "metadata": {
        "id": "Pdn_zG-mq9Sx",
        "colab_type": "text"
      },
      "source": [
        "**Görev:** Bir liste ve bir sözlük oluşturun. Liste içinde istediğiniz kelimeyi aratın ve sonucunu ekrana yazdırın! Oluşturduğunuz sözlüğün içinde hem anahtar kelime (keys()) hem de değer (values()) kontrolü yaptırın ve sonucunu ekrana yazdırın!"
      ]
    },
    {
      "cell_type": "code",
      "metadata": {
        "id": "3Sl_XODcq1mL",
        "colab_type": "code",
        "outputId": "6411ea07-a9d1-4a08-e071-93ed3c3eba51",
        "colab": {
          "base_uri": "https://localhost:8080/",
          "height": 68
        }
      },
      "source": [
        "#yeniListe\n",
        "yeniListe = [\"mavi\", \"sarı\", \"yeşil\"]\n",
        "#yeniSozluk\n",
        "yeniSozluk= {\"mavi\": \"blue\", \"sarı\":\"yellow\", \"yeşil\": \"green\"}\n",
        "print(\"mavi\" in yeniSozluk.keys())\n",
        "print(\"green\" in yeniSozluk.values())\n",
        "print(\"pink\" in yeniSozluk.values())\n"
      ],
      "execution_count": 0,
      "outputs": [
        {
          "output_type": "stream",
          "text": [
            "True\n",
            "True\n",
            "False\n"
          ],
          "name": "stdout"
        }
      ]
    },
    {
      "cell_type": "markdown",
      "metadata": {
        "id": "o68yxOoTx1vA",
        "colab_type": "text"
      },
      "source": [
        "#Bölüm 05: Koşullu İfadeler"
      ]
    },
    {
      "cell_type": "markdown",
      "metadata": {
        "id": "0R6l7TiLyI1H",
        "colab_type": "text"
      },
      "source": [
        "##Mantıksal Operatörler\n",
        "Mantıksal operatörler ifadeleri karşılaştırır ve sonuçları *True* ya da *False* değerleriyle döndürür. Python'da üç tane mantıksal operatör bulunur:\n",
        "\n",
        "1. \"and\" operatörü: Her iki yanındaki ifadeler doğru olduğunda *True* değerini döndürür.\n",
        "2. \"or\" operatörü: Her iki tarafındaki ifadelerden en az bir ifade doğru olduğunda \"True\" değerini döndürür.\n",
        "3. \"not\" operatörü: İfadenin tam tersi olarak değerlendirilmesini sağlar.\n"
      ]
    },
    {
      "cell_type": "markdown",
      "metadata": {
        "id": "Rp86gPKQ1oau",
        "colab_type": "text"
      },
      "source": [
        "**Örnek Uygulama**"
      ]
    },
    {
      "cell_type": "markdown",
      "metadata": {
        "id": "6HZvGmjG1rxk",
        "colab_type": "text"
      },
      "source": [
        "\n",
        "\n",
        "```\n",
        "kullaniciAdi = \"orcunmadran\"\n",
        "sifre = 123456\n",
        "print(kullaniciAdi == \"orcunmadran\" and sifre == 123456) # Çıktı: True\n",
        "\n",
        "kullaniciAdi = \"orcunmadran\"\n",
        "sifre = 123456\n",
        "print(kullaniciAdi == \"orcunmadran\" and not sifre == 123456) # Çıktı: False\n",
        "\n",
        "cepTel = \"05321234567\"\n",
        "ePosta = \"orcunmadran@gmail.com\"\n",
        "print(cepTel == \"\" or ePosta == \"orcunmadran@gmail.com\" ) # Çıktı: True\n",
        "```\n",
        "\n"
      ]
    },
    {
      "cell_type": "markdown",
      "metadata": {
        "id": "nwkgY8TZ5NcI",
        "colab_type": "text"
      },
      "source": [
        "**Görev:** Klavyeden girilen kullanıcı adı ve şifrenin kayıtlı bulunan kullanıcı adı ve şifre ile uyuşup uyuşmadığını kontrol edin ve sonucu ekrana yazdırın!"
      ]
    },
    {
      "cell_type": "code",
      "metadata": {
        "id": "XMHB4_dY3B1v",
        "colab_type": "code",
        "outputId": "f1f45f89-0b37-4111-d7d8-3ddbbc6cf626",
        "colab": {
          "base_uri": "https://localhost:8080/",
          "height": 85
        }
      },
      "source": [
        "#Sistemde yer alan bilgiler:\n",
        "sisKulAdi = \"yonetici\"\n",
        "sisKulSifre = \"bby162\"\n",
        "\n",
        "#Klavyeden girilen bilgiler:\n",
        "girKulAdi = input(\"Kullanıcı Adı: \")\n",
        "girKulSifre = input(\"Şifre: \")\n",
        "\n",
        "#Kontrol\n",
        "print(sisKulAdi == girKulAdi)\n",
        "print(sisKulSifre == girKulSifre)\n",
        "\n",
        "\n",
        "#Sonuç\n"
      ],
      "execution_count": 0,
      "outputs": [
        {
          "output_type": "stream",
          "text": [
            "Kullanıcı Adı: yonetici\n",
            "Şifre: bby162\n",
            "True\n",
            "True\n"
          ],
          "name": "stdout"
        }
      ]
    },
    {
      "cell_type": "markdown",
      "metadata": {
        "id": "rd-bsVch9Dxb",
        "colab_type": "text"
      },
      "source": [
        "## If Cümleciği\n",
        "\"If\" anahtar sözcüğü, verilen ifadenin doğru olup olmadığını kontrol ettikten sonra belirtilen kodu çalıştıran bir koşullu ifade oluşturmak için kullanılır. Python'da kod bloklarının tanımlanması için girinti kullanır."
      ]
    },
    {
      "cell_type": "markdown",
      "metadata": {
        "id": "3Cba5E7H976e",
        "colab_type": "text"
      },
      "source": [
        "**Örnek Uygulama**"
      ]
    },
    {
      "cell_type": "markdown",
      "metadata": {
        "id": "VujnXgWV-B_u",
        "colab_type": "text"
      },
      "source": [
        "\n",
        "\n",
        "```\n",
        "acikKavramlar = [\"bilim\", \"erişim\", \"veri\", \"eğitim\"]\n",
        "kavram = input(\"Bir açık kavramı yazın: \")\n",
        "if kavram in acikKavramlar:\n",
        "  print(kavram + \" açık kavramlar listesinde yer alıyor!\")\n",
        "```\n",
        "\n"
      ]
    },
    {
      "cell_type": "markdown",
      "metadata": {
        "id": "mwAnF_eiHj-g",
        "colab_type": "text"
      },
      "source": [
        "**Görev:** \"acikSozluk\" içinde yer alan anahtarları (keys) kullanarak eğer klavyeden girilen anahtar kelime sözlükte varsa açıklamasını ekrana yazdırın!"
      ]
    },
    {
      "cell_type": "code",
      "metadata": {
        "id": "-Knt3IBI_BRm",
        "colab_type": "code",
        "outputId": "2994dee4-c28b-4e97-fe58-1c2ac7ef1f90",
        "colab": {
          "base_uri": "https://localhost:8080/",
          "height": 68
        }
      },
      "source": [
        "acikSozluk = {\n",
        "    \"Açık Bilim\" : \"Bilimsel bilgi kamu malıdır. Bilimsel yayınlara ve verilere açık erişim bir haktır.\" ,\n",
        "    \"Açık Erişim\" : \"Kamu kaynakları ile yapılan araştırmalar sonucunda üretilen yayınlara ücretsiz erişim\" ,\n",
        "    \"Açık Veri\" : \"Kamu kaynakları ile yapılan araştırma sonucunda üretilen verilere ücretsiz ve yeniden kullanılabilir biçimde erişim\" \n",
        "    }\n",
        "anahtar = input(\"Anahtar Kelime: \")\n",
        "if anahtar in acikSozluk:\n",
        "  print(anahtar + \":\" \"Sözlükte yer alıyor!\")\n",
        "if anahtar == \"Açık Bilim\":\n",
        "  print(\"Bilimsel bilgi kamu malıdır. Bilimsel yayınlara ve verilere açık erişim bir haktır.\")\n",
        "if anahtar == \"Açık Erişim\":\n",
        "  print(\"Kamu kaynakları ile yapılan araştırmalar sonucunda üretilen yayınlara ücretsiz erişim\")\n",
        "if anahtar == \"Açık Veri\":\n",
        "  print(\"Kamu kaynakları ile yapılan araştırma sonucunda üretilen verilere ücretsiz ve yeniden kullanılabilir biçimde erişim\")\n",
        "#If"
      ],
      "execution_count": 0,
      "outputs": [
        {
          "output_type": "stream",
          "text": [
            "Anahtar Kelime: Açık Veri\n",
            "Açık Veri:Sözlükte yer alıyor!\n",
            "Kamu kaynakları ile yapılan araştırma sonucunda üretilen verilere ücretsiz ve yeniden kullanılabilir biçimde erişim\n"
          ],
          "name": "stdout"
        }
      ]
    },
    {
      "cell_type": "markdown",
      "metadata": {
        "id": "gBj0pSOoLvWu",
        "colab_type": "text"
      },
      "source": [
        "## Else ve Elif Kullanımı\n",
        "\"If\" cümleciği içinde ikinci bir ifadenin doğruluğunun kontrolü için \"Elif\" ifadesi kullanılır. Doğruluğu sorgulanan ifadelerden hiçbiri *True* döndürmediği zaman çalışacak olan kod bloğu \"Else\" altında yer alan kod bloğudur. "
      ]
    },
    {
      "cell_type": "markdown",
      "metadata": {
        "id": "B6Dc3QHlMcRF",
        "colab_type": "text"
      },
      "source": [
        "**Örnek Uygulama**"
      ]
    },
    {
      "cell_type": "markdown",
      "metadata": {
        "id": "k-jKSvQcMeu6",
        "colab_type": "text"
      },
      "source": [
        "\n",
        "\n",
        "```\n",
        "gunler = [\"Pazartesi\", \"Çarşamba\", \"Cuma\"]\n",
        "girilen = input(\"Gün giriniz: \")\n",
        "if girilen == gunler[0]:\n",
        "  print(\"Programlama Dilleri\")\n",
        "elif girilen == gunler[1]:\n",
        "  print(\"Kataloglama\")\n",
        "elif girilen == gunler[2]:\n",
        "  print(\"Bilimsel İletişim\")\n",
        "else :\n",
        "  print(\"Kayıtlı bir gün bilgisi girmediniz!\")\n",
        "```\n",
        "\n"
      ]
    },
    {
      "cell_type": "markdown",
      "metadata": {
        "id": "5JzZRGxWr3Sm",
        "colab_type": "text"
      },
      "source": [
        "**Görev:** Klavyeden girilen yaş bilgisini kullanarak ekrana aşağıdaki mesajları yazdır:\n",
        "\n",
        "*   21 yaş altı ve 64 yaş üstü kişilere: \"Sokağa çıkma yasağı bulunmaktadır!\"\n",
        "*   Diğer tüm kişilere: \"Sokağa çıkma yasağı yoktur!\"\n",
        "*   Klavyeden yaş harici bir bilgi girişi yapıldığında: \"Yaşınızı rakam olarak giriniz!\""
      ]
    },
    {
      "cell_type": "code",
      "metadata": {
        "colab_type": "code",
        "outputId": "495e3e53-1741-4f15-bf17-2b9ce939abd0",
        "id": "f-oQDVWVzJlJ",
        "colab": {
          "base_uri": "https://localhost:8080/",
          "height": 51
        }
      },
      "source": [
        "yas = int(input(\"Yaşınızı giriniz: \"))\n",
        "if yas <21 :\n",
        "  print(\"Sokağa çıkma yasağı bulunmaktadır!\")\n",
        "elif yas >64 :\n",
        "  print(\"Sokağa çıkma yasağı bulunmaktadır!\") \n",
        "elif yas >21 :\n",
        "  print(\"Sokağa çıkma yasağı yoktur!\")\n",
        "elif yas <64 :\n",
        "  print(\"Sokağa çıkma yasağı yoktur!\")\n",
        "else :\n",
        "  print(\"Yaşınızı rakam olarak giriniz!\")\n",
        "\n",
        "\n",
        "\n",
        "\n",
        "\n"
      ],
      "execution_count": 0,
      "outputs": [
        {
          "output_type": "stream",
          "text": [
            "Yaşınızı giriniz: 34\n",
            "Sokağa çıkma yasağı yoktur!\n"
          ],
          "name": "stdout"
        }
      ]
    },
    {
      "cell_type": "markdown",
      "metadata": {
        "id": "mLq4XzRPHdHl",
        "colab_type": "text"
      },
      "source": [
        "# Bölüm 06: Döngüler\n"
      ]
    },
    {
      "cell_type": "markdown",
      "metadata": {
        "id": "yuku4yibHvy5",
        "colab_type": "text"
      },
      "source": [
        "## for Döngüsü\n",
        "for döngüleri belirli komut satırını ya da satırlarını yinelemek (tekrar etmek) için kullanılır. Her yinelemede, for döngüsünde tanımlanan değişken listedeki bir sonraki değere otomatik olarak atanacaktır."
      ]
    },
    {
      "cell_type": "markdown",
      "metadata": {
        "id": "oPU0aQyFIcmf",
        "colab_type": "text"
      },
      "source": [
        "**Örnek Uygulama**"
      ]
    },
    {
      "cell_type": "markdown",
      "metadata": {
        "id": "JjwFU3rcIfzO",
        "colab_type": "text"
      },
      "source": [
        "\n",
        "\n",
        "```\n",
        "for i in range(5):  # i değerine 0-4 arası indeks değerleri otomatik olarak atanır\n",
        "    print(i)  # Çıktı: Bu komut satırı toplam 5 kere tekrarlanır ve her satırda yeni i değeri yazdırılır\n",
        "\n",
        "\n",
        "konular = [\"Açık Bilim\", \"Açık Erişim\", \"Açık Veri\"]   # yeni bir liste oluşturur\n",
        "\n",
        "for konu in konular:\n",
        "    print(konu) #Çıktı: Her bir liste öğesi alt alta satırlara yazdırılır\n",
        "\n",
        "```\n",
        "\n"
      ]
    },
    {
      "cell_type": "markdown",
      "metadata": {
        "id": "cbpRcW1aKFYu",
        "colab_type": "text"
      },
      "source": [
        "**Görev:** Bir liste oluşturun. Liste öğelerini \"for\" döngüsü kullanarak ekrana yazdırın!"
      ]
    },
    {
      "cell_type": "code",
      "metadata": {
        "id": "ry1L7GJ_J_wZ",
        "colab_type": "code",
        "outputId": "ea948dd1-e5f9-4da9-e2c5-d212cd247c58",
        "colab": {
          "base_uri": "https://localhost:8080/",
          "height": 102
        }
      },
      "source": [
        "#liste\n",
        "liste = [\"Ankara\", \"Mersin\", \"Hatay\", \"Antalya\"]\n",
        "print(\"Gidilecek Yerler:\")\n",
        "for i in liste:\n",
        "  print(i) "
      ],
      "execution_count": 0,
      "outputs": [
        {
          "output_type": "stream",
          "text": [
            "Gidilecek Yerler:\n",
            "Ankara\n",
            "Mersin\n",
            "Hatay\n",
            "Antalya\n"
          ],
          "name": "stdout"
        }
      ]
    },
    {
      "cell_type": "markdown",
      "metadata": {
        "id": "rHicjY1WKk5o",
        "colab_type": "text"
      },
      "source": [
        "## Metin Katarların for Döngüsü Kullanımı\n",
        "Metin Katarları üzerinde gerçekleştirilebilecek işlemler Python'daki listelerle büyük benzerlik taşırlar. Metin Katarını oluşturan öğeler (harfler) liste elemanları gibi \"for\" döngüsü yardımıyla ekrana yazdırılabilir. "
      ]
    },
    {
      "cell_type": "markdown",
      "metadata": {
        "id": "CC6FYNwGLa61",
        "colab_type": "text"
      },
      "source": [
        "**Örnek Uygulama**"
      ]
    },
    {
      "cell_type": "markdown",
      "metadata": {
        "id": "UlkXx7vOLdhn",
        "colab_type": "text"
      },
      "source": [
        "\n",
        "\n",
        "```\n",
        "cumle = \"Bisiklet hem zihni hem bedeni dinç tutar!\"\n",
        "\n",
        "for harf in cumle:    # Cümledeki her bir harfi ekrana satır satır yazdırır\n",
        "    print(harf)\n",
        "```\n",
        "\n"
      ]
    },
    {
      "cell_type": "markdown",
      "metadata": {
        "id": "y_7DFSavMJO4",
        "colab_type": "text"
      },
      "source": [
        "**Görev:** İçinde metin katarı bulunan bir değişken oluşturun. Bu değişkende yer alan her bir harfi bir satıra gelecek şekilde \"for\" döngüsü ile ekrana yazdırın!"
      ]
    },
    {
      "cell_type": "code",
      "metadata": {
        "id": "83a-E21mMEUr",
        "colab_type": "code",
        "outputId": "1cb9d531-2149-48f6-ce91-2f978eacfac8",
        "colab": {
          "base_uri": "https://localhost:8080/",
          "height": 119
        }
      },
      "source": [
        "#degisken\n",
        "degisken = \"WinLog\"\n",
        "for a in degisken:\n",
        "  print(a)"
      ],
      "execution_count": 0,
      "outputs": [
        {
          "output_type": "stream",
          "text": [
            "W\n",
            "i\n",
            "n\n",
            "L\n",
            "o\n",
            "g\n"
          ],
          "name": "stdout"
        }
      ]
    },
    {
      "cell_type": "markdown",
      "metadata": {
        "id": "mSp_IsCyM7Ed",
        "colab_type": "text"
      },
      "source": [
        "## while Döngüsü\n",
        "\"While\" döngüsü \"if\" cümleciğinin ifade şekline benzer. Koşul doğruysa döngüye bağlı kod satırı ya da satırları yürütülür (çalıştırılır). Temel fark, koşul doğru (True) olduğu olduğu sürece bağlı kod satırı ya da satırları çalışmaya devam eder."
      ]
    },
    {
      "cell_type": "markdown",
      "metadata": {
        "id": "9IL4WNXrOEJ2",
        "colab_type": "text"
      },
      "source": [
        "**Örnek Uygulama**"
      ]
    },
    {
      "cell_type": "markdown",
      "metadata": {
        "id": "O0pVXw8jOGjc",
        "colab_type": "text"
      },
      "source": [
        "\n",
        "\n",
        "```\n",
        "deger = 1\n",
        "\n",
        "while deger <= 10:\n",
        "    print(deger)    # Bu satır 10 kez tekrarlanacak\n",
        "    deger += 1      # Bu satır da 10 kez tekrarlanacak\n",
        "\n",
        "print(\"Program bitti\")  # Bu satır sadece bir kez çalıştırılacak\n",
        "```\n",
        "\n"
      ]
    },
    {
      "cell_type": "markdown",
      "metadata": {
        "id": "CBGdLeJbSEev",
        "colab_type": "text"
      },
      "source": [
        "## break Anahtar Kelimesi\n",
        "Asla bitmeyen döngüye sonsuz döngü adı verilir. Döngü koşulu daima doğru (True) olursa, böyle bir döngü sonsuz olur. \"Break\" anahtar kelimesi geçerli döngüden çıkmak için kullanılır."
      ]
    },
    {
      "cell_type": "markdown",
      "metadata": {
        "id": "99WbOWjYSk7U",
        "colab_type": "text"
      },
      "source": [
        "**Örnek Uygulama**"
      ]
    },
    {
      "cell_type": "markdown",
      "metadata": {
        "id": "ihLhjXWcSnv8",
        "colab_type": "text"
      },
      "source": [
        "\n",
        "\n",
        "```\n",
        "sayi = 0\n",
        "\n",
        "while True:  # bu döngü sonsuz bir döngüdür\n",
        "    print(sayi)\n",
        "    sayi += 1\n",
        "    if sayi >= 5:\n",
        "        break   # sayı değeri 5 olduğunda döngü otomatik olarak sonlanır\n",
        "```\n",
        "\n"
      ]
    },
    {
      "cell_type": "code",
      "metadata": {
        "colab_type": "code",
        "id": "xXDmHHe2TVLJ",
        "outputId": "a52403c8-0fe7-4ea1-ad4b-dcc69d2a50b7",
        "colab": {
          "base_uri": "https://localhost:8080/",
          "height": 102
        }
      },
      "source": [
        "#Örnek Uygulamayı çalıştırarak gözlemleyelim.\n",
        "\n",
        "sayi = 0\n",
        "\n",
        "while True:  # bu döngü sonsuz bir döngüdür\n",
        "    print(sayi)\n",
        "    sayi += 1\n",
        "    if sayi >= 5:\n",
        "        break   # sayı değeri 5 olduğunda döngü otomatik olarak sonlanır"
      ],
      "execution_count": 0,
      "outputs": [
        {
          "output_type": "stream",
          "text": [
            "0\n",
            "1\n",
            "2\n",
            "3\n",
            "4\n"
          ],
          "name": "stdout"
        }
      ]
    },
    {
      "cell_type": "markdown",
      "metadata": {
        "id": "ySFedvaOTqjR",
        "colab_type": "text"
      },
      "source": [
        "## continue Anahtar Kelimesi\n",
        "\"continue\" anahtar kelimesi, o anda yürütülen döngü için döngü içindeki kodun geri kalanını atlamak ve \"for\" veya \"while\" deyimine geri dönmek için kullanılır."
      ]
    },
    {
      "cell_type": "markdown",
      "metadata": {
        "id": "Ge8XX1mbT0Me",
        "colab_type": "text"
      },
      "source": [
        "\n",
        "\n",
        "```\n",
        "for i in range(5):\n",
        "    if i == 3:\n",
        "        continue   # i değeri 3 olduğu anda altta yer alan \"print\" komutu atlanıyor.\n",
        "    print(i)\n",
        "```\n",
        "\n"
      ]
    },
    {
      "cell_type": "code",
      "metadata": {
        "id": "8kRu3DpFT4pe",
        "colab_type": "code",
        "outputId": "3b2683aa-d987-4ddd-d829-7c994d5bdf3a",
        "colab": {
          "base_uri": "https://localhost:8080/",
          "height": 85
        }
      },
      "source": [
        "#Örnek Uygulamayı çalıştırarak gözlemleyelim.\n",
        "\n",
        "for i in range(5):\n",
        "    if i == 3:\n",
        "        continue\n",
        "    print(i)"
      ],
      "execution_count": 0,
      "outputs": [
        {
          "output_type": "stream",
          "text": [
            "0\n",
            "1\n",
            "2\n",
            "4\n"
          ],
          "name": "stdout"
        }
      ]
    },
    {
      "cell_type": "markdown",
      "metadata": {
        "id": "bvvGF4PTO3MX",
        "colab_type": "text"
      },
      "source": [
        "**Görev: Tahmin Oyunu**\n",
        "\n",
        "\"while\" döngüsü kullanarak bir tahmin oyunu tasarlayın. Bu tahmin oyununda, önceden belirlenmiş olan kelime ile klavyeden girilen kelime karşılaştırılmalı, tahmin doğru ise oyun \"Bildiniz..!\" mesajı ile sonlanmalı, yanlış ise tahmin hakkı bir daha verilmeli."
      ]
    },
    {
      "cell_type": "code",
      "metadata": {
        "colab_type": "code",
        "id": "aPxS3byjrjEN",
        "outputId": "7871611a-d2da-4050-d41f-1bcdbecc7d83",
        "colab": {
          "base_uri": "https://localhost:8080/",
          "height": 51
        }
      },
      "source": [
        "#Tahmin Oyunu\n",
        "kelime = \"bilgi\"\n",
        "tahmin = \"\"\n",
        "while kelime != tahmin:\n",
        "  tahmin = input(\"Tahmininizi girin: \")\n",
        "  if kelime == tahmin:\n",
        "    print(\"Doğru Tahmin!\")"
      ],
      "execution_count": 0,
      "outputs": [
        {
          "output_type": "stream",
          "text": [
            "Tahmininizi girin: bilgi\n",
            "Doğru Tahmin!\n"
          ],
          "name": "stdout"
        }
      ]
    },
    {
      "cell_type": "code",
      "metadata": {
        "id": "JK3vy6RIpfmx",
        "colab_type": "code",
        "colab": {}
      },
      "source": [
        ""
      ],
      "execution_count": 0,
      "outputs": []
    },
    {
      "cell_type": "markdown",
      "metadata": {
        "id": "yWfAoCUc-D9d",
        "colab_type": "text"
      },
      "source": [
        "# Bölüm 07: Fonksiyonlar"
      ]
    },
    {
      "cell_type": "markdown",
      "metadata": {
        "id": "YJrL9elb-LvL",
        "colab_type": "text"
      },
      "source": [
        "## Tanımlama (Definition)\n",
        "Fonksiyonlar, yazılan kodu faydalı bloklara bölmenin, daha okunabilir hale getirmenin ve tekrar kullanmaya yardımcı olmanın kullanışlı bir yoludur. Fonksiyonlar \"def\" anahtar sözcüğü ve ardından fonksiyonun adı kullanılarak tanımlanır."
      ]
    },
    {
      "cell_type": "markdown",
      "metadata": {
        "id": "pfj4kKSW-4DJ",
        "colab_type": "text"
      },
      "source": [
        "**Örnek Uygulama**"
      ]
    },
    {
      "cell_type": "markdown",
      "metadata": {
        "id": "AY162tKL-6Nd",
        "colab_type": "text"
      },
      "source": [
        "\n",
        "\n",
        "```\n",
        "def merhaba_dunya():  # fonksiyon tanımlama, isimlendirme\n",
        "    print(\"Merhaba Dünya!\") #fonksiyona dahil kod satırları\n",
        "\n",
        "for i in range(5):\n",
        "    merhaba_dunya()   # fonksiyon 5 kere çağırılacak\n",
        "```\n",
        "\n"
      ]
    },
    {
      "cell_type": "code",
      "metadata": {
        "id": "-ffbxTwRVgJT",
        "colab_type": "code",
        "outputId": "8977efb3-83a3-412f-eb9c-18edcf6fa43b",
        "colab": {
          "base_uri": "https://localhost:8080/",
          "height": 70
        }
      },
      "source": [
        "#örnek çalışma\n",
        "\n",
        "def canan_bozkurt():\n",
        "  print(\"Canan Bozkurt\")\n",
        "  \n",
        "for a in range(3):\n",
        "  canan_bozkurt()"
      ],
      "execution_count": 0,
      "outputs": [
        {
          "output_type": "stream",
          "text": [
            "Canan Bozkurt\n",
            "Canan Bozkurt\n",
            "Canan Bozkurt\n"
          ],
          "name": "stdout"
        }
      ]
    },
    {
      "cell_type": "markdown",
      "metadata": {
        "id": "UnHQO9MR_pII",
        "colab_type": "text"
      },
      "source": [
        "##Fonksiyolarda Parametre Kullanımı\n",
        "Fonksiyon parametreleri, fonksiyon adından sonra parantez () içinde tanımlanır. Parametre, iletilen bağımsız değişken için değişken adı görevi görür."
      ]
    },
    {
      "cell_type": "markdown",
      "metadata": {
        "id": "pov3U3OQ_1_l",
        "colab_type": "text"
      },
      "source": [
        "**Örnek Uygulama**"
      ]
    },
    {
      "cell_type": "markdown",
      "metadata": {
        "id": "IDgYf17j_4fu",
        "colab_type": "text"
      },
      "source": [
        "\n",
        "\n",
        "```\n",
        "def foo(x):    # x bir fonksiyon parametresidir\n",
        "    print(\"x = \" + str(x))\n",
        "\n",
        "foo(5)   # 5 değeri fonksiyona iletilir ve değer olarak kullanılır.\n",
        "```\n",
        "\n"
      ]
    },
    {
      "cell_type": "code",
      "metadata": {
        "id": "BKerIDjcpfyE",
        "colab_type": "code",
        "outputId": "64e1e98b-cebd-49cd-8061-ebfae661e9be",
        "colab": {
          "base_uri": "https://localhost:8080/",
          "height": 51
        }
      },
      "source": [
        "def karsila(kAd, kSoyad):\n",
        "  print(\"Hoşgeldin, \"+kAd+\" \"+kSoyad)\n",
        "karsila(\"Orçun\",\"Madran\")\n",
        "karsila(\"Ayşe\",\"Gel\")"
      ],
      "execution_count": 0,
      "outputs": [
        {
          "output_type": "stream",
          "text": [
            "Hoşgeldin, Orçun Madran\n",
            "Hoşgeldin, Ayşe Gel\n"
          ],
          "name": "stdout"
        }
      ]
    },
    {
      "cell_type": "code",
      "metadata": {
        "id": "lbh_G5LdWEtA",
        "colab_type": "code",
        "outputId": "f31ac58a-9bf8-4eca-cbbf-64c45ce2ca63",
        "colab": {
          "base_uri": "https://localhost:8080/",
          "height": 52
        }
      },
      "source": [
        "#örnek çalışma\n",
        "\n",
        "def yaz(ad, soyad):\n",
        "  print(\"Merhaba, \"+ad+\" \"+soyad)\n",
        "yaz(\"Canan\",\"Bozkurt\")\n",
        "yaz(\"Yasemin\", \"Bozkurt\")"
      ],
      "execution_count": 0,
      "outputs": [
        {
          "output_type": "stream",
          "text": [
            "Merhaba, Canan Bozkurt\n",
            "Merhaba, Yasemin Bozkurt\n"
          ],
          "name": "stdout"
        }
      ]
    },
    {
      "cell_type": "markdown",
      "metadata": {
        "id": "LKBMne6BAhid",
        "colab_type": "text"
      },
      "source": [
        "##Return Değeri\n",
        "Fonksiyonlar, \"return\" anahtar sözcüğünü kullanarak fonksiyon sonucunda bir değer döndürebilir. Döndürülen değer bir değişkene atanabilir veya sadece yazdırmak için kullanılabilir."
      ]
    },
    {
      "cell_type": "markdown",
      "metadata": {
        "id": "h5kjonbFA7ey",
        "colab_type": "text"
      },
      "source": [
        "**Örnek Uygulama**"
      ]
    },
    {
      "cell_type": "markdown",
      "metadata": {
        "id": "fJuWpMooBV0x",
        "colab_type": "text"
      },
      "source": [
        "\n",
        "\n",
        "```\n",
        "def iki_sayi_topla(a, b):\n",
        "    return a + b    # hesaplama işleminin sonucu değer olarak döndürülüyor\n",
        "\n",
        "print(iki_sayi_topla(3, 12))  # ekrana işlem sonucu yazdırılacak\n",
        "```\n",
        "\n"
      ]
    },
    {
      "cell_type": "code",
      "metadata": {
        "colab_type": "code",
        "outputId": "da2c011d-23be-40dd-cf39-7af1db3c0036",
        "id": "xRukn_KfrsA3",
        "colab": {
          "base_uri": "https://localhost:8080/",
          "height": 34
        }
      },
      "source": [
        "def karsilama(kAd, kSoyad):\n",
        "  return \"Hoşgeldin, \"+kAd+\" \"+kSoyad\n",
        "print(karsilama(\"Orçun\",\"Madran\"))"
      ],
      "execution_count": 0,
      "outputs": [
        {
          "output_type": "stream",
          "text": [
            "Hoşgeldin, Orçun Madran\n"
          ],
          "name": "stdout"
        }
      ]
    },
    {
      "cell_type": "code",
      "metadata": {
        "id": "6ob3zANLXKQw",
        "colab_type": "code",
        "colab": {}
      },
      "source": [
        "#örnek çalışma\n",
        "def yazdır(a, b):\n",
        "  return \"Merhaba, \"+a+\" \"+b\n",
        "  print (yazdır(\"Canan\", \"Bozkurt\"))"
      ],
      "execution_count": 0,
      "outputs": []
    },
    {
      "cell_type": "markdown",
      "metadata": {
        "id": "FXXW68lICB7S",
        "colab_type": "text"
      },
      "source": [
        "##Varsayılan Parametreler\n",
        "Bazen bir veya daha fazla fonksiyon parametresi için varsayılan bir değer belirtmek yararlı olabilir. Bu, ihtiyaç duyulan parametrelerden daha az argümanla çağrılabilen bir fonksiyon oluşturur."
      ]
    },
    {
      "cell_type": "markdown",
      "metadata": {
        "id": "FgcKjR-wCeAX",
        "colab_type": "text"
      },
      "source": [
        "**Örnek Uygulama**"
      ]
    },
    {
      "cell_type": "markdown",
      "metadata": {
        "id": "fCHKSZpcCglT",
        "colab_type": "text"
      },
      "source": [
        "\n",
        "\n",
        "```\n",
        "def iki_sayi_carp(a, b=2):\n",
        "    return a * b\n",
        "\n",
        "print(iki_sayi_carp(3, 47)) # verilen iki degeri de kullanır \n",
        "print(iki_sayi_carp(3))    # verilmeyen 2. değer yerine varsayılanı kullanır\n",
        "```\n",
        "\n"
      ]
    },
    {
      "cell_type": "markdown",
      "metadata": {
        "colab_type": "text",
        "id": "nbKueZdw2uZp"
      },
      "source": [
        "**Örnek Uygulama 2**"
      ]
    },
    {
      "cell_type": "code",
      "metadata": {
        "id": "PRtF6Bd_b2Xg",
        "colab_type": "code",
        "outputId": "73fa9f36-717c-4d86-f452-a4dff038b2e4",
        "colab": {
          "base_uri": "https://localhost:8080/",
          "height": 119
        }
      },
      "source": [
        "#Sayısal Loto Örnek Uygulama\n",
        "\n",
        "from random import randint\n",
        "def tahminEt(rakam=6, satir=6, baslangic=1, bitis=49):\n",
        "  i = 0\n",
        "  secilenler = []\n",
        "  for liste in range(rakam):\n",
        "    secilenler.append(0)\n",
        "  for olustur in range(satir):\n",
        "      while i < len(secilenler):\n",
        "          secilen = randint(baslangic, bitis)\n",
        "          if secilen not in secilenler:\n",
        "              secilenler[i] = secilen\n",
        "              i+=1\n",
        "      print(sorted(secilenler))\n",
        "      i=0\n",
        "tahminEt(10,6,1,60)"
      ],
      "execution_count": 0,
      "outputs": [
        {
          "output_type": "stream",
          "text": [
            "[2, 4, 8, 18, 26, 33, 35, 44, 52, 56]\n",
            "[17, 19, 20, 21, 22, 23, 46, 47, 49, 50]\n",
            "[5, 10, 13, 19, 27, 38, 45, 54, 57, 60]\n",
            "[1, 3, 9, 18, 21, 24, 25, 36, 50, 57]\n",
            "[7, 8, 10, 15, 19, 27, 32, 33, 34, 50]\n",
            "[1, 5, 6, 11, 14, 19, 23, 29, 40, 43]\n"
          ],
          "name": "stdout"
        }
      ]
    },
    {
      "cell_type": "code",
      "metadata": {
        "id": "xLU-34qeYXZQ",
        "colab_type": "code",
        "outputId": "7e5cfa6d-8a5f-4e8c-8a81-87ce3fcd2ebe",
        "colab": {
          "base_uri": "https://localhost:8080/",
          "height": 141
        }
      },
      "source": [
        "#örnek çalışma\n",
        "#tekrar niteliğindedir.\n",
        "from random import randint\n",
        "def sec(rakam=7, satir=7, baslangic=1, bitis=50):\n",
        "  i= 0\n",
        "  secilenler = []\n",
        "  for liste in range(rakam):\n",
        "    secilenler.append(0)\n",
        "  for olustur in range(satir): \n",
        "    while i < len(secilenler):\n",
        "      secilen = randint(baslangic, bitis)\n",
        "      if secilen not in secilenler:\n",
        "        secilenler[i] = secilen\n",
        "        i+=1\n",
        "    print(sorted(secilenler))\n",
        "    i=0\n",
        "sec(8,7,2,50)"
      ],
      "execution_count": 0,
      "outputs": [
        {
          "output_type": "stream",
          "text": [
            "[2, 12, 22, 25, 26, 28, 44, 49]\n",
            "[3, 4, 8, 12, 19, 23, 37, 38]\n",
            "[16, 27, 29, 32, 41, 44, 45, 47]\n",
            "[9, 11, 14, 18, 27, 38, 40, 49]\n",
            "[2, 5, 16, 19, 21, 22, 23, 32]\n",
            "[18, 20, 23, 27, 38, 40, 43, 48]\n",
            "[4, 6, 7, 9, 23, 25, 29, 41]\n"
          ],
          "name": "stdout"
        }
      ]
    },
    {
      "cell_type": "markdown",
      "metadata": {
        "id": "lpT_y9p9DB_U",
        "colab_type": "text"
      },
      "source": [
        "**Görev:** Bu görev genel olarak fonksiyon bölümünü kapsamaktadır. Daha önce yapmış olduğunuz \"Adam Asmaca\" projesini fonksiyonlar kullanarak oyun bittiğinde tekrar başlatmaya gerek duyulmadan yeniden oynanabilmesine imkan sağlayacak şekilde yeniden kurgulayın. Oyunun farklı sekansları için farklı fonksiyonlar tanımlayarak oyunu daha optimize hale getirmeye çalışın. "
      ]
    },
    {
      "cell_type": "code",
      "metadata": {
        "id": "JfxS1H8rEKuR",
        "colab_type": "code",
        "colab": {}
      },
      "source": [
        "#Fonksiyonlu Adam Asmaca \n",
        "#ödevi githuba ayrı bir dosya olarak ekleyeceğim."
      ],
      "execution_count": 0,
      "outputs": []
    }
  ]
}
