{
  "nbformat": 4,
  "nbformat_minor": 0,
  "metadata": {
    "colab": {
      "name": "basit_katalog.ipynb",
      "provenance": [],
      "authorship_tag": "ABX9TyN0uDDdKhTX9zNRtPHBQq5p",
      "include_colab_link": true
    },
    "kernelspec": {
      "name": "python3",
      "display_name": "Python 3"
    }
  },
  "cells": [
    {
      "cell_type": "markdown",
      "metadata": {
        "id": "view-in-github",
        "colab_type": "text"
      },
      "source": [
        "<a href=\"https://colab.research.google.com/github/cananbozkurt/BBY162-2020/blob/master/basit_katalog.ipynb\" target=\"_parent\"><img src=\"https://colab.research.google.com/assets/colab-badge.svg\" alt=\"Open In Colab\"/></a>"
      ]
    },
    {
      "cell_type": "code",
      "metadata": {
        "id": "Q0SCVTIJyIvF",
        "colab_type": "code",
        "outputId": "5b3d75a4-c8fb-4ce2-fd42-6ef99296bf9a",
        "colab": {
          "base_uri": "https://localhost:8080/",
          "height": 72
        }
      },
      "source": [
        "import re\n",
        "\n",
        "from google.colab import drive\n",
        "drive.mount('/gdrive')\n",
        "\n",
        "\n",
        "dosya = \"/gdrive/My Drive/Colab Notebooks/kitap_listesi.txt\"\n",
        "\n",
        "print(\"Kütüphaneme Hoş Geldiniz. Benim Şifremle Girebilirsiniz Sadece ^^\")\n",
        "KullaniciAdi = \"Canan\"\n",
        "Sifre = \"1998\"\n",
        "gAdi = input(\"Kullanıcı Adı: \")\n",
        "gSifre = input(\"Şifre: \")\n",
        "\n",
        "\n",
        "\n",
        "if gAdi == KullaniciAdi and gSifre == Sifre:\n",
        "    print(\"Hoş Geldiniz\")\n",
        "\n",
        "\n",
        "    x = input(\"Yazar Adına Göre Arama Yapmak İçin C Tuşuna Basabilirsiniz\\n\"\n",
        "                \"Kitap Adına Göre Arama Yapmak İçin B Tuşuna Basabilirsniz\")\n",
        "    if x == \"C\":\n",
        "        kullanici = input(\"Aradığınız Yazar Adını Yazın: \").casefold() \n",
        "        if kullanici == \"Albert Camus\".casefold():\n",
        "            print(\"Albert Camus -- Yabancı -- 1996 -- 9789750741272 -- Can Yayınları\")\n",
        "        elif kullanici == \"Sabahattin Ali\".casefold():\n",
        "            print(\"Sabahattin Ali -- İçimizdeki Şeytan -- 2016 -- 9789753638036 -- Can Yayınları\")\n",
        "        elif kullanici == \"George Orwell\".casefold():\n",
        "            print(\"George Orwell -- Hayvan Çiftliği -- 2001 -- 9789750719387 -- Can Yayınları\")\n",
        "        elif kullanici == \"Paulo Coelho\".casefold():\n",
        "            print(\"Paulo Coelho -- Simyacı -- 2010 -- 9789750726439 -- Can Yayınları\")\n",
        "        else:\n",
        "            print(\"Katalogta Bulunmuyor maalesef...\")\n",
        "    if x == \"B\":\n",
        "        kullanici = input(\"Aradığınız Eserin Adını Yazın: \").casefold() \n",
        "        if kullanici == \"Yabancı\".casefold():\n",
        "            print(\"Albert Camus -- Yabancı -- 1996 -- 9789750741272 -- Can Yayınları\")\n",
        "        elif kullanici ==\"İçimizdeki Şeytan\".casefold():\n",
        "            print(\"Sabahattin Ali -- İçimizdeki Şeytan -- 2016 -- 9789753638036 -- Can Yayınları\")\n",
        "        elif kullanici == \"Hayvan Çiftliği\".casefold():\n",
        "            print(\"George Orwell -- Hayvan Çiftliği -- 2001 -- 9789750719387 -- Can Yayınları\")\n",
        "        elif kullanici == \"Simyacı\".casefold():\n",
        "            print(\"Paulo Coelho -- Simyacı -- 2010 -- 9789750726439 -- Can Yayınları\")\n",
        "        else:\n",
        "            print(\"Katalogta Bulunmuyor maalesef...\")\n",
        "\n",
        "\n",
        "    kullanici = input(\"Yeni Bir Eser Eklemek İster Misiniz?\")\n",
        "    if kullanici == \"evet\":\n",
        "        Yazar = input(\"Yazar: \")\n",
        "        KitapAdi = input(\"Kitap Adı: \")\n",
        "        Tarih = input(\"Tarih: \")\n",
        "        Yayinevi = input(\"Yayınevi: \")\n",
        "        dosya = open(\"final.txt\", \"a\")\n",
        "\n",
        "        dosya.write(Yazar + \" -- \")\n",
        "        dosya.write(KitapAdi + \" -- \")\n",
        "        dosya.write(Tarih + \" -- \")\n",
        "        dosya.write(Yayinevi + \" \")\n",
        "        dosya.close()\n",
        "    elif kullanici == \"hayır\":\n",
        "        print(\"Bilgiler Girildi. Teşekkür Ederiz... Yine Bekleriz...\")\n",
        "else:\n",
        "    print(\"Giriş Bilgileri hatalı oldu. Lütfen yeniden deneyin.\")\n"
      ],
      "execution_count": 0,
      "outputs": [
        {
          "output_type": "stream",
          "text": [
            "Drive already mounted at /gdrive; to attempt to forcibly remount, call drive.mount(\"/gdrive\", force_remount=True).\n",
            "Kütüphaneme Hoş Geldiniz. Benim Şifremle Girebilirsiniz Sadece ^^\n"
          ],
          "name": "stdout"
        }
      ]
    }
  ]
}